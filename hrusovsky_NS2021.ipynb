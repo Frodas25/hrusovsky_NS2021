{
 "cells": [
  {
   "cell_type": "code",
   "execution_count": 1,
   "metadata": {},
   "outputs": [],
   "source": [
    "import pandas as pd\n",
    "import numpy as np\n",
    "\n",
    "import warnings\n",
    "warnings.filterwarnings('ignore')"
   ]
  },
  {
   "cell_type": "code",
   "execution_count": 2,
   "metadata": {},
   "outputs": [
    {
     "data": {
      "text/html": [
       "<div>\n",
       "<style scoped>\n",
       "    .dataframe tbody tr th:only-of-type {\n",
       "        vertical-align: middle;\n",
       "    }\n",
       "\n",
       "    .dataframe tbody tr th {\n",
       "        vertical-align: top;\n",
       "    }\n",
       "\n",
       "    .dataframe thead th {\n",
       "        text-align: right;\n",
       "    }\n",
       "</style>\n",
       "<table border=\"1\" class=\"dataframe\">\n",
       "  <thead>\n",
       "    <tr style=\"text-align: right;\">\n",
       "      <th></th>\n",
       "      <th>Age</th>\n",
       "      <th>Sex</th>\n",
       "      <th>BP</th>\n",
       "      <th>Cholesterol</th>\n",
       "      <th>Na_to_K</th>\n",
       "      <th>Drug</th>\n",
       "    </tr>\n",
       "  </thead>\n",
       "  <tbody>\n",
       "    <tr>\n",
       "      <th>0</th>\n",
       "      <td>23</td>\n",
       "      <td>F</td>\n",
       "      <td>HIGH</td>\n",
       "      <td>HIGH</td>\n",
       "      <td>25.355</td>\n",
       "      <td>DrugY</td>\n",
       "    </tr>\n",
       "    <tr>\n",
       "      <th>1</th>\n",
       "      <td>47</td>\n",
       "      <td>M</td>\n",
       "      <td>LOW</td>\n",
       "      <td>HIGH</td>\n",
       "      <td>13.093</td>\n",
       "      <td>drugC</td>\n",
       "    </tr>\n",
       "    <tr>\n",
       "      <th>2</th>\n",
       "      <td>47</td>\n",
       "      <td>M</td>\n",
       "      <td>LOW</td>\n",
       "      <td>HIGH</td>\n",
       "      <td>10.114</td>\n",
       "      <td>drugC</td>\n",
       "    </tr>\n",
       "    <tr>\n",
       "      <th>3</th>\n",
       "      <td>28</td>\n",
       "      <td>F</td>\n",
       "      <td>NORMAL</td>\n",
       "      <td>HIGH</td>\n",
       "      <td>7.798</td>\n",
       "      <td>drugX</td>\n",
       "    </tr>\n",
       "    <tr>\n",
       "      <th>4</th>\n",
       "      <td>61</td>\n",
       "      <td>F</td>\n",
       "      <td>LOW</td>\n",
       "      <td>HIGH</td>\n",
       "      <td>18.043</td>\n",
       "      <td>DrugY</td>\n",
       "    </tr>\n",
       "  </tbody>\n",
       "</table>\n",
       "</div>"
      ],
      "text/plain": [
       "   Age Sex      BP Cholesterol  Na_to_K   Drug\n",
       "0   23   F    HIGH        HIGH   25.355  DrugY\n",
       "1   47   M     LOW        HIGH   13.093  drugC\n",
       "2   47   M     LOW        HIGH   10.114  drugC\n",
       "3   28   F  NORMAL        HIGH    7.798  drugX\n",
       "4   61   F     LOW        HIGH   18.043  DrugY"
      ]
     },
     "execution_count": 2,
     "metadata": {},
     "output_type": "execute_result"
    }
   ],
   "source": [
    "df = pd.read_csv('drug200.csv')\n",
    "df.head()"
   ]
  },
  {
   "cell_type": "code",
   "execution_count": 3,
   "metadata": {},
   "outputs": [
    {
     "data": {
      "text/plain": [
       "0      25.355\n",
       "1      13.093\n",
       "2      10.114\n",
       "3       7.798\n",
       "4      18.043\n",
       "        ...  \n",
       "195    11.567\n",
       "196    12.006\n",
       "197     9.894\n",
       "198    14.020\n",
       "199    11.349\n",
       "Name: Na_to_K, Length: 200, dtype: float64"
      ]
     },
     "execution_count": 3,
     "metadata": {},
     "output_type": "execute_result"
    }
   ],
   "source": [
    "df[\"Na_to_K\"]\n",
    "# tento stlpec odkazuje na pomer sodika k drasliku v ludskom tele \n",
    "# (odporucany je 1:3, teda prijem draslika by mal byt 3x vacsi)"
   ]
  },
  {
   "cell_type": "code",
   "execution_count": 4,
   "metadata": {},
   "outputs": [
    {
     "name": "stdout",
     "output_type": "stream",
     "text": [
      "Počet prázdnych dát v datasete: 0\n"
     ]
    }
   ],
   "source": [
    "print('Počet prázdnych dát v datasete: ' + str(df.isnull().sum().sum())) # overenie, ci dataframe neobsahuje nejake prazdne zaznamy"
   ]
  },
  {
   "cell_type": "code",
   "execution_count": 5,
   "metadata": {},
   "outputs": [
    {
     "data": {
      "text/plain": [
       "Index(['Age', 'Sex', 'BP', 'Cholesterol', 'Na_to_K', 'Drug'], dtype='object')"
      ]
     },
     "execution_count": 5,
     "metadata": {},
     "output_type": "execute_result"
    }
   ],
   "source": [
    "df.columns"
   ]
  },
  {
   "cell_type": "code",
   "execution_count": 6,
   "metadata": {},
   "outputs": [
    {
     "name": "stdout",
     "output_type": "stream",
     "text": [
      "Drugs: ['DrugY' 'drugC' 'drugX' 'drugA' 'drugB'], \n",
      "Sex: ['F' 'M']\n",
      "Blood Pressure: ['HIGH' 'LOW' 'NORMAL']\n",
      "Cholesterol: ['HIGH' 'NORMAL']\n"
     ]
    }
   ],
   "source": [
    "print(f'''Drugs: {df['Drug'].unique()}, \n",
    "Sex: {df['Sex'].unique()}\n",
    "Blood Pressure: {df['BP'].unique()}\n",
    "Cholesterol: {df['Cholesterol'].unique()}''')\n",
    "# vypis hodnot jednotlivych parametrov pre vacis prehlad\n",
    "# typy liekov: A, B, C, X, Y\n",
    "# pohlavie: Male, Female\n",
    "# parameter krvny tlak ma 3 urovne: High, Low, Normal\n",
    "# cholesterol ma 2 urovne: High, Normal"
   ]
  },
  {
   "cell_type": "markdown",
   "metadata": {},
   "source": [
    "# Vizualizácia dát\n",
    "Rozhodol som sa vizualizovať tento dataframe na základe veku a pomeru sodíka k draslíku (Na_to_K) pre štyri parametre - Pohlavie (Sex), krvný tlak (BP), hladina cholesterolu (Cholesterol) a samotný liek (Drug)"
   ]
  },
  {
   "cell_type": "code",
   "execution_count": 7,
   "metadata": {},
   "outputs": [],
   "source": [
    "import matplotlib.pyplot as plt\n",
    "import seaborn as sns"
   ]
  },
  {
   "cell_type": "code",
   "execution_count": 8,
   "metadata": {},
   "outputs": [
    {
     "data": {
      "image/png": "[encoded data removed]",
      "text/plain": [
       "<Figure size 432x288 with 1 Axes>"
      ]
     },
     "metadata": {
      "needs_background": "light"
     },
     "output_type": "display_data"
    }
   ],
   "source": [
    "sns.swarmplot(x='Sex', y='Drug', data=df)\n",
    "plt.xlabel('Pohlavie')\n",
    "plt.ylabel('Lieky')\n",
    "plt.title(\"Vizualizácia jednotlivých liekov pri mužoch a ženách\")\n",
    "plt.show()"
   ]
  },
  {
   "cell_type": "markdown",
   "metadata": {},
   "source": [
    "Vizualizácia jednotlivých liekov pri mužoch a ženách nevykazuje žiadnu dôležitú odchýlku alebo vzorku. Pohlavie teda nemá vplyv na výber správneho lieku."
   ]
  },
  {
   "cell_type": "code",
   "execution_count": 9,
   "metadata": {},
   "outputs": [
    {
     "data": {
      "image/png": "[encoded data removed]",
      "text/plain": [
       "<Figure size 432x288 with 1 Axes>"
      ]
     },
     "metadata": {
      "needs_background": "light"
     },
     "output_type": "display_data"
    }
   ],
   "source": [
    "sns.swarmplot(x='Cholesterol', y='Drug', data=df)\n",
    "plt.xlabel('Cholesterol')\n",
    "plt.ylabel('Lieky')\n",
    "plt.title(\"Výskyt liekov pri vysokom a nízkom cholesterole\")\n",
    "plt.show()"
   ]
  },
  {
   "cell_type": "markdown",
   "metadata": {},
   "source": [
    "Z tejto vizualizácie je vidieť dva dôležité fakty:\n",
    "\n",
    "1. Liek C je len pre ľudí, ktorí majú vysoký cholesterol\n",
    "2. Ostatné lieky môžu byť použité pri všetkých zvyšných prípadoch "
   ]
  },
  {
   "cell_type": "code",
   "execution_count": 10,
   "metadata": {},
   "outputs": [
    {
     "data": {
      "image/png": "[encoded data removed]",
      "text/plain": [
       "<Figure size 360x360 with 1 Axes>"
      ]
     },
     "metadata": {
      "needs_background": "light"
     },
     "output_type": "display_data"
    }
   ],
   "source": [
    "plt.rcParams[\"figure.figsize\"] = (10,3)\n",
    "sns.relplot(x='BP', y='Drug', data=df, color='red')\n",
    "plt.xlabel('Krvny tlak')\n",
    "plt.ylabel('Lieky')\n",
    "plt.title(\"Výskyt liekov pri rôznych úrovniach krvného tlaku\")\n",
    "plt.grid()"
   ]
  },
  {
   "cell_type": "markdown",
   "metadata": {},
   "source": [
    "Podľa tejto vizualizácie môžeme vidieť určitú koreláciu druhov liekov s danou úrovňou cholesterolu:\n",
    "1. Liek Y je možné použiť pri všetkých úrovniach\n",
    "2. Liek A a liek B len pri vysokých úrovniach\n",
    "3. Liek X len pri nízkych úrovniach"
   ]
  },
  {
   "cell_type": "code",
   "execution_count": 11,
   "metadata": {},
   "outputs": [
    {
     "data": {
      "image/png": "[encoded data removed]",
      "text/plain": [
       "<Figure size 720x216 with 1 Axes>"
      ]
     },
     "metadata": {
      "needs_background": "light"
     },
     "output_type": "display_data"
    }
   ],
   "source": [
    "sns.swarmplot(x='Drug',y='Age', data=df)\n",
    "plt.xlabel('Lieky')\n",
    "plt.ylabel('Vek')\n",
    "plt.title(\"Výskyt liekov v danom veku pacientov\")\n",
    "plt.grid()"
   ]
  },
  {
   "cell_type": "markdown",
   "metadata": {},
   "source": [
    "Táto vizualizácia mi pomohla pochopiť najmä:\n",
    "\n",
    "1. Liek B je len pre ľudí starších, ako 50 rokov\n",
    "2. Liek A je len pre ľudí od 20 - 50 rokov\n",
    "3. Liek C sa vyskytuje najmenej\n",
    "4. Liek Y vyzerá byť, ako najbežnejší zo všetkých, môže to byť liek proti chrípke / nachladnutiu"
   ]
  },
  {
   "cell_type": "code",
   "execution_count": 12,
   "metadata": {},
   "outputs": [
    {
     "data": {
      "text/plain": [
       "Text(0.5, 1.0, 'Hustota pre hodnotu: pomer sodíka k draslíku')"
      ]
     },
     "execution_count": 12,
     "metadata": {},
     "output_type": "execute_result"
    },
    {
     "data": {
      "image/png": "[encoded data removed]",
      "text/plain": [
       "<Figure size 720x216 with 1 Axes>"
      ]
     },
     "metadata": {
      "needs_background": "light"
     },
     "output_type": "display_data"
    }
   ],
   "source": [
    "sns.distplot(df['Na_to_K'])\n",
    "plt.xlabel('Pomer sodíka k dralsíku')\n",
    "plt.ylabel('Hustota')\n",
    "plt.title(\"Hustota pre hodnotu: pomer sodíka k draslíku\")"
   ]
  },
  {
   "cell_type": "code",
   "execution_count": 13,
   "metadata": {},
   "outputs": [
    {
     "data": {
      "text/plain": [
       "Text(0.5, 1.0, 'Výskyt liekov v dataframe')"
      ]
     },
     "execution_count": 13,
     "metadata": {},
     "output_type": "execute_result"
    },
    {
     "data": {
      "image/png": "[encoded data removed]",
      "text/plain": [
       "<Figure size 720x216 with 1 Axes>"
      ]
     },
     "metadata": {
      "needs_background": "light"
     },
     "output_type": "display_data"
    }
   ],
   "source": [
    "sns.barplot(x = 'Drug', y = 'Na_to_K', data = df)\n",
    "plt.xlabel('Lieky')\n",
    "plt.ylabel('Pomer sodíka k dralsíku')\n",
    "plt.title(\"Výskyt liekov v dataframe\")"
   ]
  },
  {
   "cell_type": "markdown",
   "metadata": {},
   "source": [
    "Táto vizualizácia porovnáva celkový výskyt jednotlivých liekov"
   ]
  },
  {
   "cell_type": "markdown",
   "metadata": {},
   "source": [
    "# Predspracovanie dát"
   ]
  },
  {
   "cell_type": "code",
   "execution_count": 14,
   "metadata": {},
   "outputs": [
    {
     "data": {
      "text/html": [
       "<div>\n",
       "<style scoped>\n",
       "    .dataframe tbody tr th:only-of-type {\n",
       "        vertical-align: middle;\n",
       "    }\n",
       "\n",
       "    .dataframe tbody tr th {\n",
       "        vertical-align: top;\n",
       "    }\n",
       "\n",
       "    .dataframe thead th {\n",
       "        text-align: right;\n",
       "    }\n",
       "</style>\n",
       "<table border=\"1\" class=\"dataframe\">\n",
       "  <thead>\n",
       "    <tr style=\"text-align: right;\">\n",
       "      <th></th>\n",
       "      <th>Sex_F</th>\n",
       "      <th>Sex_M</th>\n",
       "      <th>BP_HIGH</th>\n",
       "      <th>BP_LOW</th>\n",
       "      <th>BP_NORMAL</th>\n",
       "      <th>Cholesterol_HIGH</th>\n",
       "      <th>Cholesterol_NORMAL</th>\n",
       "    </tr>\n",
       "  </thead>\n",
       "  <tbody>\n",
       "    <tr>\n",
       "      <th>0</th>\n",
       "      <td>1</td>\n",
       "      <td>0</td>\n",
       "      <td>1</td>\n",
       "      <td>0</td>\n",
       "      <td>0</td>\n",
       "      <td>1</td>\n",
       "      <td>0</td>\n",
       "    </tr>\n",
       "    <tr>\n",
       "      <th>1</th>\n",
       "      <td>0</td>\n",
       "      <td>1</td>\n",
       "      <td>0</td>\n",
       "      <td>1</td>\n",
       "      <td>0</td>\n",
       "      <td>1</td>\n",
       "      <td>0</td>\n",
       "    </tr>\n",
       "    <tr>\n",
       "      <th>2</th>\n",
       "      <td>0</td>\n",
       "      <td>1</td>\n",
       "      <td>0</td>\n",
       "      <td>1</td>\n",
       "      <td>0</td>\n",
       "      <td>1</td>\n",
       "      <td>0</td>\n",
       "    </tr>\n",
       "    <tr>\n",
       "      <th>3</th>\n",
       "      <td>1</td>\n",
       "      <td>0</td>\n",
       "      <td>0</td>\n",
       "      <td>0</td>\n",
       "      <td>1</td>\n",
       "      <td>1</td>\n",
       "      <td>0</td>\n",
       "    </tr>\n",
       "    <tr>\n",
       "      <th>4</th>\n",
       "      <td>1</td>\n",
       "      <td>0</td>\n",
       "      <td>0</td>\n",
       "      <td>1</td>\n",
       "      <td>0</td>\n",
       "      <td>1</td>\n",
       "      <td>0</td>\n",
       "    </tr>\n",
       "  </tbody>\n",
       "</table>\n",
       "</div>"
      ],
      "text/plain": [
       "   Sex_F  Sex_M  BP_HIGH  BP_LOW  BP_NORMAL  Cholesterol_HIGH  \\\n",
       "0      1      0        1       0          0                 1   \n",
       "1      0      1        0       1          0                 1   \n",
       "2      0      1        0       1          0                 1   \n",
       "3      1      0        0       0          1                 1   \n",
       "4      1      0        0       1          0                 1   \n",
       "\n",
       "   Cholesterol_NORMAL  \n",
       "0                   0  \n",
       "1                   0  \n",
       "2                   0  \n",
       "3                   0  \n",
       "4                   0  "
      ]
     },
     "execution_count": 14,
     "metadata": {},
     "output_type": "execute_result"
    }
   ],
   "source": [
    "# je potrebne este predspracovat kategoricke premenne pohlavie (sex), krvny tlak (BP) a hladinu cholesterolu (Cholesterol)\n",
    "# funckia get_dummies mi prevedie kategoricku premennu na fiktivne premenne, teda dostanem nove stlpce s nulami\n",
    "# a jednotkami, dalej mozem pracovat s cislami\n",
    "dummies = pd.get_dummies(df[['Sex', 'BP', 'Cholesterol']])\n",
    "dummies.head()"
   ]
  },
  {
   "cell_type": "code",
   "execution_count": 15,
   "metadata": {},
   "outputs": [
    {
     "data": {
      "text/html": [
       "<div>\n",
       "<style scoped>\n",
       "    .dataframe tbody tr th:only-of-type {\n",
       "        vertical-align: middle;\n",
       "    }\n",
       "\n",
       "    .dataframe tbody tr th {\n",
       "        vertical-align: top;\n",
       "    }\n",
       "\n",
       "    .dataframe thead th {\n",
       "        text-align: right;\n",
       "    }\n",
       "</style>\n",
       "<table border=\"1\" class=\"dataframe\">\n",
       "  <thead>\n",
       "    <tr style=\"text-align: right;\">\n",
       "      <th></th>\n",
       "      <th>Age</th>\n",
       "      <th>Sex</th>\n",
       "      <th>BP</th>\n",
       "      <th>Cholesterol</th>\n",
       "      <th>Na_to_K</th>\n",
       "      <th>Drug</th>\n",
       "      <th>Sex_F</th>\n",
       "      <th>Sex_M</th>\n",
       "      <th>BP_HIGH</th>\n",
       "      <th>BP_LOW</th>\n",
       "      <th>BP_NORMAL</th>\n",
       "      <th>Cholesterol_HIGH</th>\n",
       "      <th>Cholesterol_NORMAL</th>\n",
       "    </tr>\n",
       "  </thead>\n",
       "  <tbody>\n",
       "    <tr>\n",
       "      <th>0</th>\n",
       "      <td>23</td>\n",
       "      <td>F</td>\n",
       "      <td>HIGH</td>\n",
       "      <td>HIGH</td>\n",
       "      <td>25.355</td>\n",
       "      <td>DrugY</td>\n",
       "      <td>1</td>\n",
       "      <td>0</td>\n",
       "      <td>1</td>\n",
       "      <td>0</td>\n",
       "      <td>0</td>\n",
       "      <td>1</td>\n",
       "      <td>0</td>\n",
       "    </tr>\n",
       "    <tr>\n",
       "      <th>1</th>\n",
       "      <td>47</td>\n",
       "      <td>M</td>\n",
       "      <td>LOW</td>\n",
       "      <td>HIGH</td>\n",
       "      <td>13.093</td>\n",
       "      <td>drugC</td>\n",
       "      <td>0</td>\n",
       "      <td>1</td>\n",
       "      <td>0</td>\n",
       "      <td>1</td>\n",
       "      <td>0</td>\n",
       "      <td>1</td>\n",
       "      <td>0</td>\n",
       "    </tr>\n",
       "    <tr>\n",
       "      <th>2</th>\n",
       "      <td>47</td>\n",
       "      <td>M</td>\n",
       "      <td>LOW</td>\n",
       "      <td>HIGH</td>\n",
       "      <td>10.114</td>\n",
       "      <td>drugC</td>\n",
       "      <td>0</td>\n",
       "      <td>1</td>\n",
       "      <td>0</td>\n",
       "      <td>1</td>\n",
       "      <td>0</td>\n",
       "      <td>1</td>\n",
       "      <td>0</td>\n",
       "    </tr>\n",
       "    <tr>\n",
       "      <th>3</th>\n",
       "      <td>28</td>\n",
       "      <td>F</td>\n",
       "      <td>NORMAL</td>\n",
       "      <td>HIGH</td>\n",
       "      <td>7.798</td>\n",
       "      <td>drugX</td>\n",
       "      <td>1</td>\n",
       "      <td>0</td>\n",
       "      <td>0</td>\n",
       "      <td>0</td>\n",
       "      <td>1</td>\n",
       "      <td>1</td>\n",
       "      <td>0</td>\n",
       "    </tr>\n",
       "    <tr>\n",
       "      <th>4</th>\n",
       "      <td>61</td>\n",
       "      <td>F</td>\n",
       "      <td>LOW</td>\n",
       "      <td>HIGH</td>\n",
       "      <td>18.043</td>\n",
       "      <td>DrugY</td>\n",
       "      <td>1</td>\n",
       "      <td>0</td>\n",
       "      <td>0</td>\n",
       "      <td>1</td>\n",
       "      <td>0</td>\n",
       "      <td>1</td>\n",
       "      <td>0</td>\n",
       "    </tr>\n",
       "  </tbody>\n",
       "</table>\n",
       "</div>"
      ],
      "text/plain": [
       "   Age Sex      BP Cholesterol  Na_to_K   Drug  Sex_F  Sex_M  BP_HIGH  BP_LOW  \\\n",
       "0   23   F    HIGH        HIGH   25.355  DrugY      1      0        1       0   \n",
       "1   47   M     LOW        HIGH   13.093  drugC      0      1        0       1   \n",
       "2   47   M     LOW        HIGH   10.114  drugC      0      1        0       1   \n",
       "3   28   F  NORMAL        HIGH    7.798  drugX      1      0        0       0   \n",
       "4   61   F     LOW        HIGH   18.043  DrugY      1      0        0       1   \n",
       "\n",
       "   BP_NORMAL  Cholesterol_HIGH  Cholesterol_NORMAL  \n",
       "0          0                 1                   0  \n",
       "1          0                 1                   0  \n",
       "2          0                 1                   0  \n",
       "3          1                 1                   0  \n",
       "4          0                 1                   0  "
      ]
     },
     "execution_count": 15,
     "metadata": {},
     "output_type": "execute_result"
    }
   ],
   "source": [
    "# naslednuje spojenie fiktivneho dataframu dummies s mojim povodnym dataframeom df \n",
    "df = pd.concat([df,dummies], axis = 1)\n",
    "df.head()"
   ]
  },
  {
   "cell_type": "code",
   "execution_count": 16,
   "metadata": {},
   "outputs": [
    {
     "data": {
      "text/html": [
       "<div>\n",
       "<style scoped>\n",
       "    .dataframe tbody tr th:only-of-type {\n",
       "        vertical-align: middle;\n",
       "    }\n",
       "\n",
       "    .dataframe tbody tr th {\n",
       "        vertical-align: top;\n",
       "    }\n",
       "\n",
       "    .dataframe thead th {\n",
       "        text-align: right;\n",
       "    }\n",
       "</style>\n",
       "<table border=\"1\" class=\"dataframe\">\n",
       "  <thead>\n",
       "    <tr style=\"text-align: right;\">\n",
       "      <th></th>\n",
       "      <th>Age</th>\n",
       "      <th>Na_to_K</th>\n",
       "      <th>Drug</th>\n",
       "      <th>Sex_F</th>\n",
       "      <th>Sex_M</th>\n",
       "      <th>BP_HIGH</th>\n",
       "      <th>BP_LOW</th>\n",
       "      <th>BP_NORMAL</th>\n",
       "      <th>Cholesterol_HIGH</th>\n",
       "      <th>Cholesterol_NORMAL</th>\n",
       "    </tr>\n",
       "  </thead>\n",
       "  <tbody>\n",
       "    <tr>\n",
       "      <th>0</th>\n",
       "      <td>23</td>\n",
       "      <td>25.355</td>\n",
       "      <td>DrugY</td>\n",
       "      <td>1</td>\n",
       "      <td>0</td>\n",
       "      <td>1</td>\n",
       "      <td>0</td>\n",
       "      <td>0</td>\n",
       "      <td>1</td>\n",
       "      <td>0</td>\n",
       "    </tr>\n",
       "    <tr>\n",
       "      <th>1</th>\n",
       "      <td>47</td>\n",
       "      <td>13.093</td>\n",
       "      <td>drugC</td>\n",
       "      <td>0</td>\n",
       "      <td>1</td>\n",
       "      <td>0</td>\n",
       "      <td>1</td>\n",
       "      <td>0</td>\n",
       "      <td>1</td>\n",
       "      <td>0</td>\n",
       "    </tr>\n",
       "    <tr>\n",
       "      <th>2</th>\n",
       "      <td>47</td>\n",
       "      <td>10.114</td>\n",
       "      <td>drugC</td>\n",
       "      <td>0</td>\n",
       "      <td>1</td>\n",
       "      <td>0</td>\n",
       "      <td>1</td>\n",
       "      <td>0</td>\n",
       "      <td>1</td>\n",
       "      <td>0</td>\n",
       "    </tr>\n",
       "    <tr>\n",
       "      <th>3</th>\n",
       "      <td>28</td>\n",
       "      <td>7.798</td>\n",
       "      <td>drugX</td>\n",
       "      <td>1</td>\n",
       "      <td>0</td>\n",
       "      <td>0</td>\n",
       "      <td>0</td>\n",
       "      <td>1</td>\n",
       "      <td>1</td>\n",
       "      <td>0</td>\n",
       "    </tr>\n",
       "    <tr>\n",
       "      <th>4</th>\n",
       "      <td>61</td>\n",
       "      <td>18.043</td>\n",
       "      <td>DrugY</td>\n",
       "      <td>1</td>\n",
       "      <td>0</td>\n",
       "      <td>0</td>\n",
       "      <td>1</td>\n",
       "      <td>0</td>\n",
       "      <td>1</td>\n",
       "      <td>0</td>\n",
       "    </tr>\n",
       "  </tbody>\n",
       "</table>\n",
       "</div>"
      ],
      "text/plain": [
       "   Age  Na_to_K   Drug  Sex_F  Sex_M  BP_HIGH  BP_LOW  BP_NORMAL  \\\n",
       "0   23   25.355  DrugY      1      0        1       0          0   \n",
       "1   47   13.093  drugC      0      1        0       1          0   \n",
       "2   47   10.114  drugC      0      1        0       1          0   \n",
       "3   28    7.798  drugX      1      0        0       0          1   \n",
       "4   61   18.043  DrugY      1      0        0       1          0   \n",
       "\n",
       "   Cholesterol_HIGH  Cholesterol_NORMAL  \n",
       "0                 1                   0  \n",
       "1                 1                   0  \n",
       "2                 1                   0  \n",
       "3                 1                   0  \n",
       "4                 1                   0  "
      ]
     },
     "execution_count": 16,
     "metadata": {},
     "output_type": "execute_result"
    }
   ],
   "source": [
    "# ked uz mam prevedene kategoricke premenne na ciselne pre kazdy zaznam, mozem z dataframeu vymazat povodne stlpce\n",
    "# sex, BP a Cholesterol\n",
    "df = df.drop(['Sex', 'BP', 'Cholesterol'], axis = 1)\n",
    "df.head()"
   ]
  },
  {
   "cell_type": "code",
   "execution_count": 17,
   "metadata": {},
   "outputs": [
    {
     "data": {
      "text/plain": [
       "Index(['Age', 'Na_to_K', 'Drug', 'Sex_F', 'Sex_M', 'BP_HIGH', 'BP_LOW',\n",
       "       'BP_NORMAL', 'Cholesterol_HIGH', 'Cholesterol_NORMAL'],\n",
       "      dtype='object')"
      ]
     },
     "execution_count": 17,
     "metadata": {},
     "output_type": "execute_result"
    }
   ],
   "source": [
    "df.columns # kontrola, ake vsetky stlpce dataframe obsahuje"
   ]
  },
  {
   "cell_type": "markdown",
   "metadata": {},
   "source": [
    "# Train Test Split\n",
    "Použitie nástroju Train Test Split pre rýchle a efektívne rozdelenie dát do trénovacích a testovacích premnných, ktoré následne použijem pri učení"
   ]
  },
  {
   "cell_type": "code",
   "execution_count": 18,
   "metadata": {},
   "outputs": [],
   "source": [
    "X = df[['Age', 'Na_to_K', 'Sex_F', 'Sex_M', 'BP_HIGH', 'BP_LOW','BP_NORMAL', 'Cholesterol_HIGH', 'Cholesterol_NORMAL']]\n",
    "Y = df['Drug']\n",
    "Y = pd.get_dummies(Y)\n",
    "# vytvorenie premennej X, co bude predstavovat vstupnu vrstvu pre neuronovu siet, 9 parametrov\n",
    "# vytvorenie premennej Y, co bude predstavovat vystupnu vrstvu, vytvorim si z nej este\n",
    "# jednotkovu maticu, teda na vystupe bude 5 parametrov"
   ]
  },
  {
   "cell_type": "code",
   "execution_count": 19,
   "metadata": {},
   "outputs": [
    {
     "data": {
      "text/plain": [
       "((200, 9), (200, 5))"
      ]
     },
     "execution_count": 19,
     "metadata": {},
     "output_type": "execute_result"
    }
   ],
   "source": [
    "X.shape, Y.shape # kontrola rozmerov matic"
   ]
  },
  {
   "cell_type": "code",
   "execution_count": 20,
   "metadata": {},
   "outputs": [],
   "source": [
    "from sklearn.model_selection import train_test_split as tts\n",
    "\n",
    "X_train, X_test, Y_train, Y_test = tts(X, Y, test_size = 0.25, random_state = 42)\n",
    "# pouzitie train test split pre ucely klasifikacie dat\n",
    "# do trenovacih premennych si alokujem 75% dat z dataframeu\n",
    "# do testovacich premennych si alokujem zvysnu 25% dat z dataframe, co urcuje parameter test_size, random_state vybera nahodne hodnoty"
   ]
  },
  {
   "cell_type": "code",
   "execution_count": 21,
   "metadata": {
    "scrolled": true
   },
   "outputs": [
    {
     "name": "stdout",
     "output_type": "stream",
     "text": [
      "X_train shape : (150, 9)\n",
      "X_test shape : (50, 9)\n",
      "Y_train shape : (150, 5)\n",
      "Y_test shape : (50, 5)\n"
     ]
    }
   ],
   "source": [
    "for setd,name in zip([X_train,X_test,Y_train,Y_test],['X_train','X_test','Y_train','Y_test']):\n",
    "  print(name + ' shape : ' + str(setd.shape))\n",
    "# overenie velkosti test a train matic"
   ]
  },
  {
   "cell_type": "markdown",
   "metadata": {},
   "source": [
    "# Trénovanie neurónovej siete\n",
    "\n",
    "Na vytvorenie samotnej neurónovej siete som sa rozhodol použiť Sequental model od Kerasu. Vytvoril som si, ako bude model neurónu vyzerať pomocou vstupnej vrstvy Flatten, dvoch skrytých vrstiev Dense a výstupnej vrstvy Dense. Následne som pripravil model na fitting (trénovanie) pomocou metódy compile s optimizátorom 'adam' a sledujem tu metriku presnosti, teda 'accuracy'."
   ]
  },
  {
   "cell_type": "code",
   "execution_count": 22,
   "metadata": {},
   "outputs": [],
   "source": [
    "import keras\n",
    "from keras.layers import Dense\n",
    "from keras.models import Sequential\n",
    "from keras.layers import Flatten\n",
    "from keras.layers import Dropout"
   ]
  },
  {
   "cell_type": "code",
   "execution_count": 23,
   "metadata": {},
   "outputs": [
    {
     "name": "stdout",
     "output_type": "stream",
     "text": [
      "Model: \"sequential\"\n",
      "_________________________________________________________________\n",
      "Layer (type)                 Output Shape              Param #   \n",
      "=================================================================\n",
      "flatten (Flatten)            (None, 9)                 0         \n",
      "_________________________________________________________________\n",
      "dense (Dense)                (None, 32)                320       \n",
      "_________________________________________________________________\n",
      "dropout (Dropout)            (None, 32)                0         \n",
      "_________________________________________________________________\n",
      "dense_1 (Dense)              (None, 16)                528       \n",
      "_________________________________________________________________\n",
      "dense_2 (Dense)              (None, 5)                 85        \n",
      "=================================================================\n",
      "Total params: 933\n",
      "Trainable params: 933\n",
      "Non-trainable params: 0\n",
      "_________________________________________________________________\n"
     ]
    }
   ],
   "source": [
    "model = Sequential([\n",
    "    # Flatten predstavuje vstupnu vrstvu, je tu 9 neuronov na zaklade datasetu\n",
    "    Flatten(input_dim=9),\n",
    "    Dense(32, activation='relu'), # prva skryta vrstva je o velkosti 32 neuronov, aktivacna funkcia relu\n",
    "    Dropout(0.3), # Dropout zabranuje pretrenovaniu (overfitting) neuronovej siete, 30 % udajov sa nepouzije\n",
    "    Dense(16, activation='relu'), # druha skryta vrstva o velkosti 16 neuronov, aktivacna funkcia relu\n",
    "    Dense(5, activation='sigmoid') # vystupna vrstva o velkosti 5 neuronov, aktivacna funkcia sigmoid\n",
    "])\n",
    "\n",
    "# na model pouzijem metodu compile, ktora mi ho pripravi na nasledne ucenie (fit), metrics urcuje, co sa bude\n",
    "# pri vypise zobrazovat, je to samozrejme presnost (accuracy)\n",
    "model.compile(optimizer='adam', loss='mean_squared_error', metrics=['accuracy'])\n",
    "model.summary() # vypis modelu"
   ]
  },
  {
   "cell_type": "code",
   "execution_count": 24,
   "metadata": {},
   "outputs": [
    {
     "name": "stdout",
     "output_type": "stream",
     "text": [
      "Epoch 1/250\n",
      "15/15 - 1s - loss: 0.1983 - accuracy: 0.4067 - val_loss: 0.1576 - val_accuracy: 0.4000\n",
      "Epoch 2/250\n",
      "15/15 - 0s - loss: 0.1796 - accuracy: 0.4333 - val_loss: 0.1527 - val_accuracy: 0.4000\n",
      "Epoch 3/250\n",
      "15/15 - 0s - loss: 0.1845 - accuracy: 0.4400 - val_loss: 0.1612 - val_accuracy: 0.4000\n",
      "Epoch 4/250\n",
      "15/15 - 0s - loss: 0.1655 - accuracy: 0.4800 - val_loss: 0.1537 - val_accuracy: 0.4000\n",
      "Epoch 5/250\n",
      "15/15 - 0s - loss: 0.1638 - accuracy: 0.4533 - val_loss: 0.1523 - val_accuracy: 0.4000\n",
      "Epoch 6/250\n",
      "15/15 - 0s - loss: 0.1617 - accuracy: 0.4667 - val_loss: 0.1518 - val_accuracy: 0.4000\n",
      "Epoch 7/250\n",
      "15/15 - 0s - loss: 0.1622 - accuracy: 0.4733 - val_loss: 0.1463 - val_accuracy: 0.4000\n",
      "Epoch 8/250\n",
      "15/15 - 0s - loss: 0.1552 - accuracy: 0.4867 - val_loss: 0.1517 - val_accuracy: 0.4000\n",
      "Epoch 9/250\n",
      "15/15 - 0s - loss: 0.1594 - accuracy: 0.4600 - val_loss: 0.1551 - val_accuracy: 0.4000\n",
      "Epoch 10/250\n",
      "15/15 - 0s - loss: 0.1568 - accuracy: 0.4667 - val_loss: 0.1551 - val_accuracy: 0.4000\n",
      "Epoch 11/250\n",
      "15/15 - 0s - loss: 0.1494 - accuracy: 0.4667 - val_loss: 0.1533 - val_accuracy: 0.4000\n",
      "Epoch 12/250\n",
      "15/15 - 0s - loss: 0.1531 - accuracy: 0.4667 - val_loss: 0.1472 - val_accuracy: 0.4000\n",
      "Epoch 13/250\n",
      "15/15 - 0s - loss: 0.1592 - accuracy: 0.4667 - val_loss: 0.1529 - val_accuracy: 0.4000\n",
      "Epoch 14/250\n",
      "15/15 - 0s - loss: 0.1451 - accuracy: 0.4867 - val_loss: 0.1456 - val_accuracy: 0.4000\n",
      "Epoch 15/250\n",
      "15/15 - 0s - loss: 0.1444 - accuracy: 0.4667 - val_loss: 0.1448 - val_accuracy: 0.4000\n",
      "Epoch 16/250\n",
      "15/15 - 0s - loss: 0.1468 - accuracy: 0.4733 - val_loss: 0.1461 - val_accuracy: 0.4000\n",
      "Epoch 17/250\n",
      "15/15 - 0s - loss: 0.1414 - accuracy: 0.4667 - val_loss: 0.1454 - val_accuracy: 0.4000\n",
      "Epoch 18/250\n",
      "15/15 - 0s - loss: 0.1500 - accuracy: 0.4733 - val_loss: 0.1510 - val_accuracy: 0.4000\n",
      "Epoch 19/250\n",
      "15/15 - 0s - loss: 0.1513 - accuracy: 0.4667 - val_loss: 0.1450 - val_accuracy: 0.4000\n",
      "Epoch 20/250\n",
      "15/15 - 0s - loss: 0.1426 - accuracy: 0.4800 - val_loss: 0.1444 - val_accuracy: 0.4000\n",
      "Epoch 21/250\n",
      "15/15 - 0s - loss: 0.1476 - accuracy: 0.4733 - val_loss: 0.1470 - val_accuracy: 0.4000\n",
      "Epoch 22/250\n",
      "15/15 - 0s - loss: 0.1338 - accuracy: 0.4667 - val_loss: 0.1455 - val_accuracy: 0.4000\n",
      "Epoch 23/250\n",
      "15/15 - 0s - loss: 0.1467 - accuracy: 0.4667 - val_loss: 0.1441 - val_accuracy: 0.4000\n",
      "Epoch 24/250\n",
      "15/15 - 0s - loss: 0.1401 - accuracy: 0.5000 - val_loss: 0.1465 - val_accuracy: 0.4000\n",
      "Epoch 25/250\n",
      "15/15 - 0s - loss: 0.1378 - accuracy: 0.4800 - val_loss: 0.1443 - val_accuracy: 0.4000\n",
      "Epoch 26/250\n",
      "15/15 - 0s - loss: 0.1396 - accuracy: 0.4800 - val_loss: 0.1470 - val_accuracy: 0.4000\n",
      "Epoch 27/250\n",
      "15/15 - 0s - loss: 0.1358 - accuracy: 0.4867 - val_loss: 0.1442 - val_accuracy: 0.4000\n",
      "Epoch 28/250\n",
      "15/15 - 0s - loss: 0.1383 - accuracy: 0.4733 - val_loss: 0.1442 - val_accuracy: 0.4000\n",
      "Epoch 29/250\n",
      "15/15 - 0s - loss: 0.1375 - accuracy: 0.5200 - val_loss: 0.1423 - val_accuracy: 0.4000\n",
      "Epoch 30/250\n",
      "15/15 - 0s - loss: 0.1334 - accuracy: 0.4933 - val_loss: 0.1443 - val_accuracy: 0.4000\n",
      "Epoch 31/250\n",
      "15/15 - 0s - loss: 0.1299 - accuracy: 0.5000 - val_loss: 0.1467 - val_accuracy: 0.4000\n",
      "Epoch 32/250\n",
      "15/15 - 0s - loss: 0.1354 - accuracy: 0.5000 - val_loss: 0.1441 - val_accuracy: 0.4000\n",
      "Epoch 33/250\n",
      "15/15 - 0s - loss: 0.1353 - accuracy: 0.4933 - val_loss: 0.1425 - val_accuracy: 0.4000\n",
      "Epoch 34/250\n",
      "15/15 - 0s - loss: 0.1365 - accuracy: 0.4867 - val_loss: 0.1432 - val_accuracy: 0.4000\n",
      "Epoch 35/250\n",
      "15/15 - 0s - loss: 0.1353 - accuracy: 0.4733 - val_loss: 0.1434 - val_accuracy: 0.4000\n",
      "Epoch 36/250\n",
      "15/15 - 0s - loss: 0.1276 - accuracy: 0.5333 - val_loss: 0.1361 - val_accuracy: 0.4600\n",
      "Epoch 37/250\n",
      "15/15 - 0s - loss: 0.1287 - accuracy: 0.5000 - val_loss: 0.1375 - val_accuracy: 0.4600\n",
      "Epoch 38/250\n",
      "15/15 - 0s - loss: 0.1313 - accuracy: 0.5000 - val_loss: 0.1337 - val_accuracy: 0.4600\n",
      "Epoch 39/250\n",
      "15/15 - 0s - loss: 0.1222 - accuracy: 0.5667 - val_loss: 0.1224 - val_accuracy: 0.5200\n",
      "Epoch 40/250\n",
      "15/15 - 0s - loss: 0.1232 - accuracy: 0.5533 - val_loss: 0.1188 - val_accuracy: 0.5200\n",
      "Epoch 41/250\n",
      "15/15 - 0s - loss: 0.1202 - accuracy: 0.5600 - val_loss: 0.1154 - val_accuracy: 0.5200\n",
      "Epoch 42/250\n",
      "15/15 - 0s - loss: 0.1299 - accuracy: 0.5533 - val_loss: 0.1136 - val_accuracy: 0.5200\n",
      "Epoch 43/250\n",
      "15/15 - 0s - loss: 0.1181 - accuracy: 0.5800 - val_loss: 0.1159 - val_accuracy: 0.5200\n",
      "Epoch 44/250\n",
      "15/15 - 0s - loss: 0.1198 - accuracy: 0.5333 - val_loss: 0.1161 - val_accuracy: 0.5200\n",
      "Epoch 45/250\n",
      "15/15 - 0s - loss: 0.1282 - accuracy: 0.5600 - val_loss: 0.1147 - val_accuracy: 0.5200\n",
      "Epoch 46/250\n",
      "15/15 - 0s - loss: 0.1194 - accuracy: 0.5533 - val_loss: 0.1148 - val_accuracy: 0.5200\n",
      "Epoch 47/250\n",
      "15/15 - 0s - loss: 0.1256 - accuracy: 0.5667 - val_loss: 0.1116 - val_accuracy: 0.5200\n",
      "Epoch 48/250\n",
      "15/15 - 0s - loss: 0.1135 - accuracy: 0.5867 - val_loss: 0.1085 - val_accuracy: 0.5600\n",
      "Epoch 49/250\n",
      "15/15 - 0s - loss: 0.1160 - accuracy: 0.5667 - val_loss: 0.1124 - val_accuracy: 0.5200\n",
      "Epoch 50/250\n",
      "15/15 - 0s - loss: 0.1195 - accuracy: 0.5800 - val_loss: 0.1112 - val_accuracy: 0.5200\n",
      "Epoch 51/250\n",
      "15/15 - 0s - loss: 0.1110 - accuracy: 0.5800 - val_loss: 0.1068 - val_accuracy: 0.5800\n",
      "Epoch 52/250\n",
      "15/15 - 0s - loss: 0.1143 - accuracy: 0.5467 - val_loss: 0.1072 - val_accuracy: 0.5400\n",
      "Epoch 53/250\n",
      "15/15 - 0s - loss: 0.1099 - accuracy: 0.6133 - val_loss: 0.1076 - val_accuracy: 0.5400\n",
      "Epoch 54/250\n",
      "15/15 - 0s - loss: 0.1032 - accuracy: 0.6067 - val_loss: 0.1059 - val_accuracy: 0.6000\n",
      "Epoch 55/250\n",
      "15/15 - 0s - loss: 0.1107 - accuracy: 0.5733 - val_loss: 0.1059 - val_accuracy: 0.5400\n",
      "Epoch 56/250\n",
      "15/15 - 0s - loss: 0.1142 - accuracy: 0.5667 - val_loss: 0.1047 - val_accuracy: 0.6000\n",
      "Epoch 57/250\n",
      "15/15 - 0s - loss: 0.1117 - accuracy: 0.5867 - val_loss: 0.1055 - val_accuracy: 0.5400\n",
      "Epoch 58/250\n",
      "15/15 - 0s - loss: 0.1078 - accuracy: 0.6000 - val_loss: 0.1059 - val_accuracy: 0.5400\n",
      "Epoch 59/250\n",
      "15/15 - 0s - loss: 0.1053 - accuracy: 0.6200 - val_loss: 0.1055 - val_accuracy: 0.5400\n",
      "Epoch 60/250\n",
      "15/15 - 0s - loss: 0.1047 - accuracy: 0.6467 - val_loss: 0.1042 - val_accuracy: 0.6000\n",
      "Epoch 61/250\n",
      "15/15 - 0s - loss: 0.1003 - accuracy: 0.6600 - val_loss: 0.1040 - val_accuracy: 0.6200\n",
      "Epoch 62/250\n",
      "15/15 - 0s - loss: 0.1007 - accuracy: 0.6400 - val_loss: 0.1040 - val_accuracy: 0.5800\n",
      "Epoch 63/250\n",
      "15/15 - 0s - loss: 0.1073 - accuracy: 0.5933 - val_loss: 0.1034 - val_accuracy: 0.5800\n",
      "Epoch 64/250\n",
      "15/15 - 0s - loss: 0.1057 - accuracy: 0.6400 - val_loss: 0.1026 - val_accuracy: 0.6200\n",
      "Epoch 65/250\n",
      "15/15 - 0s - loss: 0.0996 - accuracy: 0.6533 - val_loss: 0.1047 - val_accuracy: 0.5400\n",
      "Epoch 66/250\n",
      "15/15 - 0s - loss: 0.1059 - accuracy: 0.5733 - val_loss: 0.1026 - val_accuracy: 0.5400\n",
      "Epoch 67/250\n",
      "15/15 - 0s - loss: 0.1016 - accuracy: 0.6200 - val_loss: 0.0999 - val_accuracy: 0.6400\n",
      "Epoch 68/250\n",
      "15/15 - 0s - loss: 0.1000 - accuracy: 0.6333 - val_loss: 0.1002 - val_accuracy: 0.6400\n",
      "Epoch 69/250\n",
      "15/15 - 0s - loss: 0.1000 - accuracy: 0.6267 - val_loss: 0.1016 - val_accuracy: 0.5400\n",
      "Epoch 70/250\n",
      "15/15 - 0s - loss: 0.1058 - accuracy: 0.6200 - val_loss: 0.0989 - val_accuracy: 0.6400\n",
      "Epoch 71/250\n",
      "15/15 - 0s - loss: 0.0988 - accuracy: 0.6400 - val_loss: 0.1001 - val_accuracy: 0.6400\n",
      "Epoch 72/250\n",
      "15/15 - 0s - loss: 0.0981 - accuracy: 0.6067 - val_loss: 0.0993 - val_accuracy: 0.6400\n",
      "Epoch 73/250\n",
      "15/15 - 0s - loss: 0.1024 - accuracy: 0.6400 - val_loss: 0.0986 - val_accuracy: 0.6400\n",
      "Epoch 74/250\n",
      "15/15 - 0s - loss: 0.0983 - accuracy: 0.6400 - val_loss: 0.1000 - val_accuracy: 0.6400\n",
      "Epoch 75/250\n",
      "15/15 - 0s - loss: 0.0957 - accuracy: 0.6400 - val_loss: 0.0975 - val_accuracy: 0.6400\n",
      "Epoch 76/250\n",
      "15/15 - 0s - loss: 0.1000 - accuracy: 0.6400 - val_loss: 0.0976 - val_accuracy: 0.6400\n",
      "Epoch 77/250\n",
      "15/15 - 0s - loss: 0.0976 - accuracy: 0.6733 - val_loss: 0.0971 - val_accuracy: 0.6400\n",
      "Epoch 78/250\n",
      "15/15 - 0s - loss: 0.0956 - accuracy: 0.6600 - val_loss: 0.0955 - val_accuracy: 0.6400\n",
      "Epoch 79/250\n",
      "15/15 - 0s - loss: 0.0946 - accuracy: 0.6533 - val_loss: 0.0955 - val_accuracy: 0.6400\n",
      "Epoch 80/250\n",
      "15/15 - 0s - loss: 0.0969 - accuracy: 0.6467 - val_loss: 0.0957 - val_accuracy: 0.6400\n",
      "Epoch 81/250\n",
      "15/15 - 0s - loss: 0.0915 - accuracy: 0.6800 - val_loss: 0.0950 - val_accuracy: 0.6600\n",
      "Epoch 82/250\n",
      "15/15 - 0s - loss: 0.0915 - accuracy: 0.6533 - val_loss: 0.0941 - val_accuracy: 0.6600\n",
      "Epoch 83/250\n",
      "15/15 - 0s - loss: 0.0910 - accuracy: 0.6933 - val_loss: 0.0937 - val_accuracy: 0.6800\n"
     ]
    },
    {
     "name": "stdout",
     "output_type": "stream",
     "text": [
      "Epoch 84/250\n",
      "15/15 - 0s - loss: 0.0913 - accuracy: 0.6933 - val_loss: 0.0935 - val_accuracy: 0.6400\n",
      "Epoch 85/250\n",
      "15/15 - 0s - loss: 0.0948 - accuracy: 0.6667 - val_loss: 0.0925 - val_accuracy: 0.7200\n",
      "Epoch 86/250\n",
      "15/15 - 0s - loss: 0.0942 - accuracy: 0.6733 - val_loss: 0.0922 - val_accuracy: 0.6800\n",
      "Epoch 87/250\n",
      "15/15 - 0s - loss: 0.0904 - accuracy: 0.6733 - val_loss: 0.0917 - val_accuracy: 0.6800\n",
      "Epoch 88/250\n",
      "15/15 - 0s - loss: 0.0899 - accuracy: 0.6867 - val_loss: 0.0912 - val_accuracy: 0.7200\n",
      "Epoch 89/250\n",
      "15/15 - 0s - loss: 0.0882 - accuracy: 0.6933 - val_loss: 0.0913 - val_accuracy: 0.7200\n",
      "Epoch 90/250\n",
      "15/15 - 0s - loss: 0.0923 - accuracy: 0.6733 - val_loss: 0.0905 - val_accuracy: 0.7200\n",
      "Epoch 91/250\n",
      "15/15 - 0s - loss: 0.0881 - accuracy: 0.6733 - val_loss: 0.0903 - val_accuracy: 0.7200\n",
      "Epoch 92/250\n",
      "15/15 - 0s - loss: 0.0847 - accuracy: 0.7067 - val_loss: 0.0882 - val_accuracy: 0.7200\n",
      "Epoch 93/250\n",
      "15/15 - 0s - loss: 0.0861 - accuracy: 0.6867 - val_loss: 0.0872 - val_accuracy: 0.7200\n",
      "Epoch 94/250\n",
      "15/15 - 0s - loss: 0.0867 - accuracy: 0.6800 - val_loss: 0.0867 - val_accuracy: 0.7200\n",
      "Epoch 95/250\n",
      "15/15 - 0s - loss: 0.0861 - accuracy: 0.6933 - val_loss: 0.0857 - val_accuracy: 0.7200\n",
      "Epoch 96/250\n",
      "15/15 - 0s - loss: 0.0842 - accuracy: 0.6933 - val_loss: 0.0857 - val_accuracy: 0.7200\n",
      "Epoch 97/250\n",
      "15/15 - 0s - loss: 0.0822 - accuracy: 0.7467 - val_loss: 0.0832 - val_accuracy: 0.7400\n",
      "Epoch 98/250\n",
      "15/15 - 0s - loss: 0.0843 - accuracy: 0.7000 - val_loss: 0.0819 - val_accuracy: 0.7200\n",
      "Epoch 99/250\n",
      "15/15 - 0s - loss: 0.0829 - accuracy: 0.7133 - val_loss: 0.0813 - val_accuracy: 0.7600\n",
      "Epoch 100/250\n",
      "15/15 - 0s - loss: 0.0844 - accuracy: 0.7200 - val_loss: 0.0804 - val_accuracy: 0.7600\n",
      "Epoch 101/250\n",
      "15/15 - 0s - loss: 0.0789 - accuracy: 0.7000 - val_loss: 0.0802 - val_accuracy: 0.7400\n",
      "Epoch 102/250\n",
      "15/15 - 0s - loss: 0.0828 - accuracy: 0.7067 - val_loss: 0.0791 - val_accuracy: 0.7800\n",
      "Epoch 103/250\n",
      "15/15 - 0s - loss: 0.0778 - accuracy: 0.7400 - val_loss: 0.0792 - val_accuracy: 0.7400\n",
      "Epoch 104/250\n",
      "15/15 - 0s - loss: 0.0820 - accuracy: 0.7200 - val_loss: 0.0775 - val_accuracy: 0.7600\n",
      "Epoch 105/250\n",
      "15/15 - 0s - loss: 0.0785 - accuracy: 0.7333 - val_loss: 0.0779 - val_accuracy: 0.7800\n",
      "Epoch 106/250\n",
      "15/15 - 0s - loss: 0.0772 - accuracy: 0.7533 - val_loss: 0.0767 - val_accuracy: 0.7400\n",
      "Epoch 107/250\n",
      "15/15 - 0s - loss: 0.0767 - accuracy: 0.7533 - val_loss: 0.0762 - val_accuracy: 0.7800\n",
      "Epoch 108/250\n",
      "15/15 - 0s - loss: 0.0801 - accuracy: 0.7267 - val_loss: 0.0757 - val_accuracy: 0.7800\n",
      "Epoch 109/250\n",
      "15/15 - 0s - loss: 0.0792 - accuracy: 0.7067 - val_loss: 0.0768 - val_accuracy: 0.7800\n",
      "Epoch 110/250\n",
      "15/15 - 0s - loss: 0.0729 - accuracy: 0.7667 - val_loss: 0.0750 - val_accuracy: 0.7800\n",
      "Epoch 111/250\n",
      "15/15 - 0s - loss: 0.0726 - accuracy: 0.7533 - val_loss: 0.0735 - val_accuracy: 0.7400\n",
      "Epoch 112/250\n",
      "15/15 - 0s - loss: 0.0782 - accuracy: 0.7733 - val_loss: 0.0727 - val_accuracy: 0.7800\n",
      "Epoch 113/250\n",
      "15/15 - 0s - loss: 0.0771 - accuracy: 0.7467 - val_loss: 0.0727 - val_accuracy: 0.7600\n",
      "Epoch 114/250\n",
      "15/15 - 0s - loss: 0.0719 - accuracy: 0.7600 - val_loss: 0.0758 - val_accuracy: 0.7800\n",
      "Epoch 115/250\n",
      "15/15 - 0s - loss: 0.0735 - accuracy: 0.7733 - val_loss: 0.0734 - val_accuracy: 0.7400\n",
      "Epoch 116/250\n",
      "15/15 - 0s - loss: 0.0751 - accuracy: 0.7133 - val_loss: 0.0719 - val_accuracy: 0.7600\n",
      "Epoch 117/250\n",
      "15/15 - 0s - loss: 0.0721 - accuracy: 0.7400 - val_loss: 0.0703 - val_accuracy: 0.7800\n",
      "Epoch 118/250\n",
      "15/15 - 0s - loss: 0.0690 - accuracy: 0.7800 - val_loss: 0.0693 - val_accuracy: 0.7800\n",
      "Epoch 119/250\n",
      "15/15 - 0s - loss: 0.0752 - accuracy: 0.7600 - val_loss: 0.0693 - val_accuracy: 0.7800\n",
      "Epoch 120/250\n",
      "15/15 - 0s - loss: 0.0729 - accuracy: 0.7267 - val_loss: 0.0701 - val_accuracy: 0.7800\n",
      "Epoch 121/250\n",
      "15/15 - 0s - loss: 0.0725 - accuracy: 0.7467 - val_loss: 0.0695 - val_accuracy: 0.7800\n",
      "Epoch 122/250\n",
      "15/15 - 0s - loss: 0.0704 - accuracy: 0.7533 - val_loss: 0.0687 - val_accuracy: 0.7800\n",
      "Epoch 123/250\n",
      "15/15 - 0s - loss: 0.0706 - accuracy: 0.7667 - val_loss: 0.0692 - val_accuracy: 0.7800\n",
      "Epoch 124/250\n",
      "15/15 - 0s - loss: 0.0658 - accuracy: 0.7800 - val_loss: 0.0690 - val_accuracy: 0.7800\n",
      "Epoch 125/250\n",
      "15/15 - 0s - loss: 0.0694 - accuracy: 0.7733 - val_loss: 0.0681 - val_accuracy: 0.8000\n",
      "Epoch 126/250\n",
      "15/15 - 0s - loss: 0.0692 - accuracy: 0.7667 - val_loss: 0.0672 - val_accuracy: 0.7800\n",
      "Epoch 127/250\n",
      "15/15 - 0s - loss: 0.0735 - accuracy: 0.7467 - val_loss: 0.0661 - val_accuracy: 0.7800\n",
      "Epoch 128/250\n",
      "15/15 - 0s - loss: 0.0699 - accuracy: 0.7800 - val_loss: 0.0668 - val_accuracy: 0.8000\n",
      "Epoch 129/250\n",
      "15/15 - 0s - loss: 0.0687 - accuracy: 0.7600 - val_loss: 0.0661 - val_accuracy: 0.7800\n",
      "Epoch 130/250\n",
      "15/15 - 0s - loss: 0.0667 - accuracy: 0.7467 - val_loss: 0.0650 - val_accuracy: 0.7800\n",
      "Epoch 131/250\n",
      "15/15 - 0s - loss: 0.0643 - accuracy: 0.7667 - val_loss: 0.0639 - val_accuracy: 0.8000\n",
      "Epoch 132/250\n",
      "15/15 - 0s - loss: 0.0644 - accuracy: 0.7867 - val_loss: 0.0637 - val_accuracy: 0.8000\n",
      "Epoch 133/250\n",
      "15/15 - 0s - loss: 0.0675 - accuracy: 0.7533 - val_loss: 0.0635 - val_accuracy: 0.7800\n",
      "Epoch 134/250\n",
      "15/15 - 0s - loss: 0.0623 - accuracy: 0.7800 - val_loss: 0.0621 - val_accuracy: 0.7800\n",
      "Epoch 135/250\n",
      "15/15 - 0s - loss: 0.0626 - accuracy: 0.7933 - val_loss: 0.0611 - val_accuracy: 0.8000\n",
      "Epoch 136/250\n",
      "15/15 - 0s - loss: 0.0636 - accuracy: 0.8067 - val_loss: 0.0615 - val_accuracy: 0.8000\n",
      "Epoch 137/250\n",
      "15/15 - 0s - loss: 0.0623 - accuracy: 0.7800 - val_loss: 0.0613 - val_accuracy: 0.8000\n",
      "Epoch 138/250\n",
      "15/15 - 0s - loss: 0.0611 - accuracy: 0.8000 - val_loss: 0.0610 - val_accuracy: 0.7800\n",
      "Epoch 139/250\n",
      "15/15 - 0s - loss: 0.0637 - accuracy: 0.7800 - val_loss: 0.0602 - val_accuracy: 0.7800\n",
      "Epoch 140/250\n",
      "15/15 - 0s - loss: 0.0660 - accuracy: 0.7400 - val_loss: 0.0597 - val_accuracy: 0.7800\n",
      "Epoch 141/250\n",
      "15/15 - 0s - loss: 0.0641 - accuracy: 0.7867 - val_loss: 0.0587 - val_accuracy: 0.8000\n",
      "Epoch 142/250\n",
      "15/15 - 0s - loss: 0.0618 - accuracy: 0.7600 - val_loss: 0.0589 - val_accuracy: 0.8000\n",
      "Epoch 143/250\n",
      "15/15 - 0s - loss: 0.0622 - accuracy: 0.7667 - val_loss: 0.0586 - val_accuracy: 0.7800\n",
      "Epoch 144/250\n",
      "15/15 - 0s - loss: 0.0622 - accuracy: 0.7933 - val_loss: 0.0574 - val_accuracy: 0.8000\n",
      "Epoch 145/250\n",
      "15/15 - 0s - loss: 0.0581 - accuracy: 0.8267 - val_loss: 0.0571 - val_accuracy: 0.8000\n",
      "Epoch 146/250\n",
      "15/15 - 0s - loss: 0.0623 - accuracy: 0.7733 - val_loss: 0.0581 - val_accuracy: 0.7800\n",
      "Epoch 147/250\n",
      "15/15 - 0s - loss: 0.0622 - accuracy: 0.7733 - val_loss: 0.0565 - val_accuracy: 0.8000\n",
      "Epoch 148/250\n",
      "15/15 - 0s - loss: 0.0636 - accuracy: 0.7667 - val_loss: 0.0565 - val_accuracy: 0.7800\n",
      "Epoch 149/250\n",
      "15/15 - 0s - loss: 0.0583 - accuracy: 0.8000 - val_loss: 0.0567 - val_accuracy: 0.8000\n",
      "Epoch 150/250\n",
      "15/15 - 0s - loss: 0.0613 - accuracy: 0.8000 - val_loss: 0.0569 - val_accuracy: 0.8000\n",
      "Epoch 151/250\n",
      "15/15 - 0s - loss: 0.0627 - accuracy: 0.7733 - val_loss: 0.0558 - val_accuracy: 0.8000\n",
      "Epoch 152/250\n",
      "15/15 - 0s - loss: 0.0571 - accuracy: 0.7667 - val_loss: 0.0562 - val_accuracy: 0.8000\n",
      "Epoch 153/250\n",
      "15/15 - 0s - loss: 0.0588 - accuracy: 0.8000 - val_loss: 0.0560 - val_accuracy: 0.8000\n",
      "Epoch 154/250\n",
      "15/15 - 0s - loss: 0.0601 - accuracy: 0.7800 - val_loss: 0.0561 - val_accuracy: 0.8000\n",
      "Epoch 155/250\n",
      "15/15 - 0s - loss: 0.0588 - accuracy: 0.8133 - val_loss: 0.0545 - val_accuracy: 0.8000\n",
      "Epoch 156/250\n",
      "15/15 - 0s - loss: 0.0565 - accuracy: 0.8000 - val_loss: 0.0544 - val_accuracy: 0.8000\n",
      "Epoch 157/250\n",
      "15/15 - 0s - loss: 0.0565 - accuracy: 0.8067 - val_loss: 0.0534 - val_accuracy: 0.8000\n",
      "Epoch 158/250\n",
      "15/15 - 0s - loss: 0.0585 - accuracy: 0.7867 - val_loss: 0.0538 - val_accuracy: 0.8000\n",
      "Epoch 159/250\n",
      "15/15 - 0s - loss: 0.0594 - accuracy: 0.7867 - val_loss: 0.0528 - val_accuracy: 0.8000\n",
      "Epoch 160/250\n",
      "15/15 - 0s - loss: 0.0580 - accuracy: 0.8000 - val_loss: 0.0514 - val_accuracy: 0.8000\n",
      "Epoch 161/250\n",
      "15/15 - 0s - loss: 0.0589 - accuracy: 0.8133 - val_loss: 0.0517 - val_accuracy: 0.8000\n",
      "Epoch 162/250\n",
      "15/15 - 0s - loss: 0.0577 - accuracy: 0.8133 - val_loss: 0.0511 - val_accuracy: 0.8000\n",
      "Epoch 163/250\n",
      "15/15 - 0s - loss: 0.0579 - accuracy: 0.8067 - val_loss: 0.0515 - val_accuracy: 0.8000\n",
      "Epoch 164/250\n",
      "15/15 - 0s - loss: 0.0535 - accuracy: 0.8067 - val_loss: 0.0511 - val_accuracy: 0.8000\n",
      "Epoch 165/250\n",
      "15/15 - 0s - loss: 0.0550 - accuracy: 0.7867 - val_loss: 0.0487 - val_accuracy: 0.8000\n"
     ]
    },
    {
     "name": "stdout",
     "output_type": "stream",
     "text": [
      "Epoch 166/250\n",
      "15/15 - 0s - loss: 0.0575 - accuracy: 0.7867 - val_loss: 0.0512 - val_accuracy: 0.8000\n",
      "Epoch 167/250\n",
      "15/15 - 0s - loss: 0.0561 - accuracy: 0.8000 - val_loss: 0.0494 - val_accuracy: 0.8000\n",
      "Epoch 168/250\n",
      "15/15 - 0s - loss: 0.0535 - accuracy: 0.8333 - val_loss: 0.0495 - val_accuracy: 0.8000\n",
      "Epoch 169/250\n",
      "15/15 - 0s - loss: 0.0550 - accuracy: 0.7867 - val_loss: 0.0503 - val_accuracy: 0.8000\n",
      "Epoch 170/250\n",
      "15/15 - 0s - loss: 0.0539 - accuracy: 0.8200 - val_loss: 0.0478 - val_accuracy: 0.8000\n",
      "Epoch 171/250\n",
      "15/15 - 0s - loss: 0.0538 - accuracy: 0.8267 - val_loss: 0.0486 - val_accuracy: 0.8000\n",
      "Epoch 172/250\n",
      "15/15 - 0s - loss: 0.0547 - accuracy: 0.7933 - val_loss: 0.0484 - val_accuracy: 0.8000\n",
      "Epoch 173/250\n",
      "15/15 - 0s - loss: 0.0532 - accuracy: 0.8133 - val_loss: 0.0472 - val_accuracy: 0.8000\n",
      "Epoch 174/250\n",
      "15/15 - 0s - loss: 0.0558 - accuracy: 0.8200 - val_loss: 0.0488 - val_accuracy: 0.8200\n",
      "Epoch 175/250\n",
      "15/15 - 0s - loss: 0.0517 - accuracy: 0.8000 - val_loss: 0.0492 - val_accuracy: 0.8000\n",
      "Epoch 176/250\n",
      "15/15 - 0s - loss: 0.0510 - accuracy: 0.8333 - val_loss: 0.0456 - val_accuracy: 0.8000\n",
      "Epoch 177/250\n",
      "15/15 - 0s - loss: 0.0515 - accuracy: 0.8400 - val_loss: 0.0469 - val_accuracy: 0.8400\n",
      "Epoch 178/250\n",
      "15/15 - 0s - loss: 0.0557 - accuracy: 0.8267 - val_loss: 0.0457 - val_accuracy: 0.8200\n",
      "Epoch 179/250\n",
      "15/15 - 0s - loss: 0.0531 - accuracy: 0.7933 - val_loss: 0.0461 - val_accuracy: 0.8000\n",
      "Epoch 180/250\n",
      "15/15 - 0s - loss: 0.0470 - accuracy: 0.8533 - val_loss: 0.0442 - val_accuracy: 0.8000\n",
      "Epoch 181/250\n",
      "15/15 - 0s - loss: 0.0540 - accuracy: 0.8267 - val_loss: 0.0456 - val_accuracy: 0.8000\n",
      "Epoch 182/250\n",
      "15/15 - 0s - loss: 0.0493 - accuracy: 0.8467 - val_loss: 0.0451 - val_accuracy: 0.8400\n",
      "Epoch 183/250\n",
      "15/15 - 0s - loss: 0.0473 - accuracy: 0.8400 - val_loss: 0.0438 - val_accuracy: 0.8000\n",
      "Epoch 184/250\n",
      "15/15 - 0s - loss: 0.0497 - accuracy: 0.8200 - val_loss: 0.0422 - val_accuracy: 0.8600\n",
      "Epoch 185/250\n",
      "15/15 - 0s - loss: 0.0501 - accuracy: 0.8400 - val_loss: 0.0428 - val_accuracy: 0.8200\n",
      "Epoch 186/250\n",
      "15/15 - 0s - loss: 0.0510 - accuracy: 0.8400 - val_loss: 0.0429 - val_accuracy: 0.8000\n",
      "Epoch 187/250\n",
      "15/15 - 0s - loss: 0.0472 - accuracy: 0.8533 - val_loss: 0.0414 - val_accuracy: 0.8800\n",
      "Epoch 188/250\n",
      "15/15 - 0s - loss: 0.0481 - accuracy: 0.8533 - val_loss: 0.0406 - val_accuracy: 0.8600\n",
      "Epoch 189/250\n",
      "15/15 - 0s - loss: 0.0461 - accuracy: 0.8667 - val_loss: 0.0431 - val_accuracy: 0.8000\n",
      "Epoch 190/250\n",
      "15/15 - 0s - loss: 0.0484 - accuracy: 0.8400 - val_loss: 0.0406 - val_accuracy: 0.8600\n",
      "Epoch 191/250\n",
      "15/15 - 0s - loss: 0.0479 - accuracy: 0.8467 - val_loss: 0.0417 - val_accuracy: 0.8000\n",
      "Epoch 192/250\n",
      "15/15 - 0s - loss: 0.0467 - accuracy: 0.8667 - val_loss: 0.0399 - val_accuracy: 0.8400\n",
      "Epoch 193/250\n",
      "15/15 - 0s - loss: 0.0454 - accuracy: 0.8467 - val_loss: 0.0396 - val_accuracy: 0.8200\n",
      "Epoch 194/250\n",
      "15/15 - 0s - loss: 0.0479 - accuracy: 0.8467 - val_loss: 0.0407 - val_accuracy: 0.8400\n",
      "Epoch 195/250\n",
      "15/15 - 0s - loss: 0.0502 - accuracy: 0.8333 - val_loss: 0.0418 - val_accuracy: 0.8000\n",
      "Epoch 196/250\n",
      "15/15 - 0s - loss: 0.0510 - accuracy: 0.8267 - val_loss: 0.0411 - val_accuracy: 0.8800\n",
      "Epoch 197/250\n",
      "15/15 - 0s - loss: 0.0493 - accuracy: 0.8200 - val_loss: 0.0391 - val_accuracy: 0.8600\n",
      "Epoch 198/250\n",
      "15/15 - 0s - loss: 0.0448 - accuracy: 0.8733 - val_loss: 0.0389 - val_accuracy: 0.8600\n",
      "Epoch 199/250\n",
      "15/15 - 0s - loss: 0.0478 - accuracy: 0.8667 - val_loss: 0.0407 - val_accuracy: 0.8400\n",
      "Epoch 200/250\n",
      "15/15 - 0s - loss: 0.0489 - accuracy: 0.8467 - val_loss: 0.0391 - val_accuracy: 0.8600\n",
      "Epoch 201/250\n",
      "15/15 - 0s - loss: 0.0483 - accuracy: 0.8400 - val_loss: 0.0384 - val_accuracy: 0.8800\n",
      "Epoch 202/250\n",
      "15/15 - 0s - loss: 0.0432 - accuracy: 0.8733 - val_loss: 0.0367 - val_accuracy: 0.8800\n",
      "Epoch 203/250\n",
      "15/15 - 0s - loss: 0.0467 - accuracy: 0.8400 - val_loss: 0.0373 - val_accuracy: 0.8600\n",
      "Epoch 204/250\n",
      "15/15 - 0s - loss: 0.0446 - accuracy: 0.8533 - val_loss: 0.0388 - val_accuracy: 0.8200\n",
      "Epoch 205/250\n",
      "15/15 - 0s - loss: 0.0420 - accuracy: 0.8600 - val_loss: 0.0382 - val_accuracy: 0.8400\n",
      "Epoch 206/250\n",
      "15/15 - 0s - loss: 0.0444 - accuracy: 0.8533 - val_loss: 0.0356 - val_accuracy: 0.8800\n",
      "Epoch 207/250\n",
      "15/15 - 0s - loss: 0.0425 - accuracy: 0.8600 - val_loss: 0.0369 - val_accuracy: 0.8600\n",
      "Epoch 208/250\n",
      "15/15 - 0s - loss: 0.0445 - accuracy: 0.8400 - val_loss: 0.0357 - val_accuracy: 0.9000\n",
      "Epoch 209/250\n",
      "15/15 - 0s - loss: 0.0396 - accuracy: 0.8800 - val_loss: 0.0361 - val_accuracy: 0.8400\n",
      "Epoch 210/250\n",
      "15/15 - 0s - loss: 0.0423 - accuracy: 0.8400 - val_loss: 0.0359 - val_accuracy: 0.9000\n",
      "Epoch 211/250\n",
      "15/15 - 0s - loss: 0.0409 - accuracy: 0.8533 - val_loss: 0.0341 - val_accuracy: 0.9000\n",
      "Epoch 212/250\n",
      "15/15 - 0s - loss: 0.0465 - accuracy: 0.8467 - val_loss: 0.0364 - val_accuracy: 0.8800\n",
      "Epoch 213/250\n",
      "15/15 - 0s - loss: 0.0460 - accuracy: 0.8533 - val_loss: 0.0363 - val_accuracy: 0.9200\n",
      "Epoch 214/250\n",
      "15/15 - 0s - loss: 0.0430 - accuracy: 0.8467 - val_loss: 0.0345 - val_accuracy: 0.8800\n",
      "Epoch 215/250\n",
      "15/15 - 0s - loss: 0.0408 - accuracy: 0.8800 - val_loss: 0.0373 - val_accuracy: 0.8800\n",
      "Epoch 216/250\n",
      "15/15 - 0s - loss: 0.0475 - accuracy: 0.8200 - val_loss: 0.0341 - val_accuracy: 0.9000\n",
      "Epoch 217/250\n",
      "15/15 - 0s - loss: 0.0395 - accuracy: 0.8733 - val_loss: 0.0340 - val_accuracy: 0.9000\n",
      "Epoch 218/250\n",
      "15/15 - 0s - loss: 0.0433 - accuracy: 0.8533 - val_loss: 0.0357 - val_accuracy: 0.8800\n",
      "Epoch 219/250\n",
      "15/15 - 0s - loss: 0.0420 - accuracy: 0.8800 - val_loss: 0.0335 - val_accuracy: 0.9000\n",
      "Epoch 220/250\n",
      "15/15 - 0s - loss: 0.0499 - accuracy: 0.8133 - val_loss: 0.0349 - val_accuracy: 0.8600\n",
      "Epoch 221/250\n",
      "15/15 - 0s - loss: 0.0443 - accuracy: 0.8600 - val_loss: 0.0340 - val_accuracy: 0.8800\n",
      "Epoch 222/250\n",
      "15/15 - 0s - loss: 0.0394 - accuracy: 0.8800 - val_loss: 0.0339 - val_accuracy: 0.9000\n",
      "Epoch 223/250\n",
      "15/15 - 0s - loss: 0.0402 - accuracy: 0.8733 - val_loss: 0.0349 - val_accuracy: 0.8800\n",
      "Epoch 224/250\n",
      "15/15 - 0s - loss: 0.0437 - accuracy: 0.8667 - val_loss: 0.0336 - val_accuracy: 0.9000\n",
      "Epoch 225/250\n",
      "15/15 - 0s - loss: 0.0413 - accuracy: 0.8467 - val_loss: 0.0321 - val_accuracy: 0.9000\n",
      "Epoch 226/250\n",
      "15/15 - 0s - loss: 0.0431 - accuracy: 0.8667 - val_loss: 0.0336 - val_accuracy: 0.9200\n",
      "Epoch 227/250\n",
      "15/15 - 0s - loss: 0.0413 - accuracy: 0.8733 - val_loss: 0.0338 - val_accuracy: 0.9000\n",
      "Epoch 228/250\n",
      "15/15 - 0s - loss: 0.0472 - accuracy: 0.8267 - val_loss: 0.0315 - val_accuracy: 0.9000\n",
      "Epoch 229/250\n",
      "15/15 - 0s - loss: 0.0350 - accuracy: 0.8933 - val_loss: 0.0317 - val_accuracy: 0.9200\n",
      "Epoch 230/250\n",
      "15/15 - 0s - loss: 0.0452 - accuracy: 0.8467 - val_loss: 0.0319 - val_accuracy: 0.9200\n",
      "Epoch 231/250\n",
      "15/15 - 0s - loss: 0.0421 - accuracy: 0.8600 - val_loss: 0.0316 - val_accuracy: 0.9200\n",
      "Epoch 232/250\n",
      "15/15 - 0s - loss: 0.0453 - accuracy: 0.8200 - val_loss: 0.0317 - val_accuracy: 0.9200\n",
      "Epoch 233/250\n",
      "15/15 - 0s - loss: 0.0417 - accuracy: 0.8667 - val_loss: 0.0327 - val_accuracy: 0.9200\n",
      "Epoch 234/250\n",
      "15/15 - 0s - loss: 0.0424 - accuracy: 0.8533 - val_loss: 0.0307 - val_accuracy: 0.9000\n",
      "Epoch 235/250\n",
      "15/15 - 0s - loss: 0.0380 - accuracy: 0.8800 - val_loss: 0.0303 - val_accuracy: 0.9200\n",
      "Epoch 236/250\n",
      "15/15 - 0s - loss: 0.0430 - accuracy: 0.8600 - val_loss: 0.0333 - val_accuracy: 0.9000\n",
      "Epoch 237/250\n",
      "15/15 - 0s - loss: 0.0478 - accuracy: 0.8267 - val_loss: 0.0302 - val_accuracy: 0.9000\n",
      "Epoch 238/250\n",
      "15/15 - 0s - loss: 0.0424 - accuracy: 0.8667 - val_loss: 0.0308 - val_accuracy: 0.9200\n",
      "Epoch 239/250\n",
      "15/15 - 0s - loss: 0.0415 - accuracy: 0.8667 - val_loss: 0.0298 - val_accuracy: 0.9200\n",
      "Epoch 240/250\n",
      "15/15 - 0s - loss: 0.0452 - accuracy: 0.8533 - val_loss: 0.0315 - val_accuracy: 0.9200\n",
      "Epoch 241/250\n",
      "15/15 - 0s - loss: 0.0407 - accuracy: 0.8733 - val_loss: 0.0298 - val_accuracy: 0.9000\n",
      "Epoch 242/250\n",
      "15/15 - 0s - loss: 0.0426 - accuracy: 0.8733 - val_loss: 0.0305 - val_accuracy: 0.9000\n",
      "Epoch 243/250\n",
      "15/15 - 0s - loss: 0.0394 - accuracy: 0.8667 - val_loss: 0.0298 - val_accuracy: 0.9200\n",
      "Epoch 244/250\n",
      "15/15 - 0s - loss: 0.0429 - accuracy: 0.8467 - val_loss: 0.0289 - val_accuracy: 0.9000\n",
      "Epoch 245/250\n",
      "15/15 - 0s - loss: 0.0354 - accuracy: 0.8867 - val_loss: 0.0295 - val_accuracy: 0.9200\n",
      "Epoch 246/250\n",
      "15/15 - 0s - loss: 0.0426 - accuracy: 0.8667 - val_loss: 0.0295 - val_accuracy: 0.9200\n",
      "Epoch 247/250\n",
      "15/15 - 0s - loss: 0.0409 - accuracy: 0.8667 - val_loss: 0.0312 - val_accuracy: 0.9000\n"
     ]
    },
    {
     "name": "stdout",
     "output_type": "stream",
     "text": [
      "Epoch 248/250\n",
      "15/15 - 0s - loss: 0.0434 - accuracy: 0.8667 - val_loss: 0.0306 - val_accuracy: 0.9200\n",
      "Epoch 249/250\n",
      "15/15 - 0s - loss: 0.0397 - accuracy: 0.8667 - val_loss: 0.0288 - val_accuracy: 0.9000\n",
      "Epoch 250/250\n",
      "15/15 - 0s - loss: 0.0387 - accuracy: 0.8867 - val_loss: 0.0286 - val_accuracy: 0.9000\n"
     ]
    }
   ],
   "source": [
    "trening = model.fit(X_train, \n",
    "                    Y_train, \n",
    "                    batch_size=10, \n",
    "                    validation_data=(X_test, Y_test), \n",
    "                    epochs=250, \n",
    "                    verbose=2)\n",
    "# batch_size je parameter urcujuci, kolko udajov sa spracovava v jednej iteracii\n",
    "# verbose je parameter pre vyhlad vypisu, so vsetko bude obsahovat (1 = kompletny) "
   ]
  },
  {
   "cell_type": "markdown",
   "metadata": {},
   "source": [
    "# Vizualizácia výsledkov neurónovej siete"
   ]
  },
  {
   "cell_type": "code",
   "execution_count": 25,
   "metadata": {},
   "outputs": [
    {
     "name": "stdout",
     "output_type": "stream",
     "text": [
      "dict_keys(['loss', 'accuracy', 'val_loss', 'val_accuracy'])\n"
     ]
    }
   ],
   "source": [
    "print(trening.history.keys())"
   ]
  },
  {
   "cell_type": "code",
   "execution_count": 26,
   "metadata": {},
   "outputs": [
    {
     "data": {
      "image/png": "[encoded data removed]",
      "text/plain": [
       "<Figure size 720x216 with 1 Axes>"
      ]
     },
     "metadata": {
      "needs_background": "light"
     },
     "output_type": "display_data"
    }
   ],
   "source": [
    "plt.plot(trening.history['accuracy'], label='Prenosť', color='blue')\n",
    "plt.plot(trening.history['loss'], label='Chyba', color='red')\n",
    "plt.title('Výsledok trénovacích dát')\n",
    "plt.legend()\n",
    "plt.show()"
   ]
  },
  {
   "cell_type": "code",
   "execution_count": 27,
   "metadata": {},
   "outputs": [
    {
     "data": {
      "image/png": "[encoded data removed]",
      "text/plain": [
       "<Figure size 720x216 with 1 Axes>"
      ]
     },
     "metadata": {
      "needs_background": "light"
     },
     "output_type": "display_data"
    }
   ],
   "source": [
    "plt.plot(trening.history['val_accuracy'], label='Prenosť', color='blue')\n",
    "plt.plot(trening.history['val_loss'], label='Chyba', color='red')\n",
    "plt.title('Výsledok testovacích dát')\n",
    "plt.legend()\n",
    "plt.show()"
   ]
  },
  {
   "cell_type": "markdown",
   "metadata": {},
   "source": [
    "# Výsledok\n",
    "\n",
    "- Neurónová sieť mala veľmi vysokú 86 % prenosť a nízku chybovosť, ktorá sa každou epochou blížila k nule.\n",
    "- Dáta nebolo náročné spracovať, jedine bolo nutné rozdeliť kategorické premenné na ďalšie stĺpce"
   ]
  },
  {
   "cell_type": "code",
   "execution_count": null,
   "metadata": {},
   "outputs": [],
   "source": []
  }
 ],
 "metadata": {
  "kernelspec": {
   "display_name": "Python 3",
   "language": "python",
   "name": "python3"
  },
  "language_info": {
   "codemirror_mode": {
    "name": "ipython",
    "version": 3
   },
   "file_extension": ".py",
   "mimetype": "text/x-python",
   "name": "python",
   "nbconvert_exporter": "python",
   "pygments_lexer": "ipython3",
   "version": "3.8.5"
  }
 },
 "nbformat": 4,
 "nbformat_minor": 4
}
