{
 "cells": [
  {
   "cell_type": "code",
   "execution_count": 1,
   "metadata": {},
   "outputs": [],
   "source": [
    "import pandas as pd\n",
    "import numpy as np\n",
    "\n",
    "import warnings\n",
    "warnings.filterwarnings('ignore')"
   ]
  },
  {
   "cell_type": "code",
   "execution_count": 2,
   "metadata": {},
   "outputs": [
    {
     "data": {
      "text/html": [
       "<div>\n",
       "<style scoped>\n",
       "    .dataframe tbody tr th:only-of-type {\n",
       "        vertical-align: middle;\n",
       "    }\n",
       "\n",
       "    .dataframe tbody tr th {\n",
       "        vertical-align: top;\n",
       "    }\n",
       "\n",
       "    .dataframe thead th {\n",
       "        text-align: right;\n",
       "    }\n",
       "</style>\n",
       "<table border=\"1\" class=\"dataframe\">\n",
       "  <thead>\n",
       "    <tr style=\"text-align: right;\">\n",
       "      <th></th>\n",
       "      <th>Age</th>\n",
       "      <th>Sex</th>\n",
       "      <th>BP</th>\n",
       "      <th>Cholesterol</th>\n",
       "      <th>Na_to_K</th>\n",
       "      <th>Drug</th>\n",
       "    </tr>\n",
       "  </thead>\n",
       "  <tbody>\n",
       "    <tr>\n",
       "      <th>0</th>\n",
       "      <td>23</td>\n",
       "      <td>F</td>\n",
       "      <td>HIGH</td>\n",
       "      <td>HIGH</td>\n",
       "      <td>25.355</td>\n",
       "      <td>DrugY</td>\n",
       "    </tr>\n",
       "    <tr>\n",
       "      <th>1</th>\n",
       "      <td>47</td>\n",
       "      <td>M</td>\n",
       "      <td>LOW</td>\n",
       "      <td>HIGH</td>\n",
       "      <td>13.093</td>\n",
       "      <td>drugC</td>\n",
       "    </tr>\n",
       "    <tr>\n",
       "      <th>2</th>\n",
       "      <td>47</td>\n",
       "      <td>M</td>\n",
       "      <td>LOW</td>\n",
       "      <td>HIGH</td>\n",
       "      <td>10.114</td>\n",
       "      <td>drugC</td>\n",
       "    </tr>\n",
       "    <tr>\n",
       "      <th>3</th>\n",
       "      <td>28</td>\n",
       "      <td>F</td>\n",
       "      <td>NORMAL</td>\n",
       "      <td>HIGH</td>\n",
       "      <td>7.798</td>\n",
       "      <td>drugX</td>\n",
       "    </tr>\n",
       "    <tr>\n",
       "      <th>4</th>\n",
       "      <td>61</td>\n",
       "      <td>F</td>\n",
       "      <td>LOW</td>\n",
       "      <td>HIGH</td>\n",
       "      <td>18.043</td>\n",
       "      <td>DrugY</td>\n",
       "    </tr>\n",
       "  </tbody>\n",
       "</table>\n",
       "</div>"
      ],
      "text/plain": [
       "   Age Sex      BP Cholesterol  Na_to_K   Drug\n",
       "0   23   F    HIGH        HIGH   25.355  DrugY\n",
       "1   47   M     LOW        HIGH   13.093  drugC\n",
       "2   47   M     LOW        HIGH   10.114  drugC\n",
       "3   28   F  NORMAL        HIGH    7.798  drugX\n",
       "4   61   F     LOW        HIGH   18.043  DrugY"
      ]
     },
     "execution_count": 2,
     "metadata": {},
     "output_type": "execute_result"
    }
   ],
   "source": [
    "df = pd.read_csv('drug200.csv')\n",
    "df.head()"
   ]
  },
  {
   "cell_type": "code",
   "execution_count": 3,
   "metadata": {},
   "outputs": [
    {
     "data": {
      "text/plain": [
       "0      25.355\n",
       "1      13.093\n",
       "2      10.114\n",
       "3       7.798\n",
       "4      18.043\n",
       "        ...  \n",
       "195    11.567\n",
       "196    12.006\n",
       "197     9.894\n",
       "198    14.020\n",
       "199    11.349\n",
       "Name: Na_to_K, Length: 200, dtype: float64"
      ]
     },
     "execution_count": 3,
     "metadata": {},
     "output_type": "execute_result"
    }
   ],
   "source": [
    "df[\"Na_to_K\"]\n",
    "# tento stlpec odkazuje na pomer sodika k drasliku v ludskom tele \n",
    "# (odporucany je 1:3, teda prijem draslika by mal byt 3x vacsi)"
   ]
  },
  {
   "cell_type": "code",
   "execution_count": 4,
   "metadata": {},
   "outputs": [
    {
     "name": "stdout",
     "output_type": "stream",
     "text": [
      "Počet prázdnych dát v datasete: 0\n"
     ]
    }
   ],
   "source": [
    "print('Počet prázdnych dát v datasete: ' + str(df.isnull().sum().sum())) # overenie, ci dataframe neobsahuje nejake prazdne zaznamy"
   ]
  },
  {
   "cell_type": "code",
   "execution_count": 5,
   "metadata": {},
   "outputs": [
    {
     "data": {
      "text/plain": [
       "Index(['Age', 'Sex', 'BP', 'Cholesterol', 'Na_to_K', 'Drug'], dtype='object')"
      ]
     },
     "execution_count": 5,
     "metadata": {},
     "output_type": "execute_result"
    }
   ],
   "source": [
    "df.columns"
   ]
  },
  {
   "cell_type": "code",
   "execution_count": 6,
   "metadata": {},
   "outputs": [
    {
     "name": "stdout",
     "output_type": "stream",
     "text": [
      "Drugs: ['DrugY' 'drugC' 'drugX' 'drugA' 'drugB'], \n",
      "Sex: ['F' 'M']\n",
      "Blood Pressure: ['HIGH' 'LOW' 'NORMAL']\n",
      "Cholesterol: ['HIGH' 'NORMAL']\n"
     ]
    }
   ],
   "source": [
    "print(f'''Drugs: {df['Drug'].unique()}, \n",
    "Sex: {df['Sex'].unique()}\n",
    "Blood Pressure: {df['BP'].unique()}\n",
    "Cholesterol: {df['Cholesterol'].unique()}''')\n",
    "# vypis hodnot jednotlivych parametrov pre vacis prehlad\n",
    "# typy liekov: A, B, C, X, Y\n",
    "# pohlavie: Male, Female\n",
    "# parameter krvny tlak ma 3 urovne: High, Low, Normal\n",
    "# cholesterol ma 2 urovne: High, Normal"
   ]
  },
  {
   "cell_type": "markdown",
   "metadata": {},
   "source": [
    "# Vizualizácia dát\n",
    "Rozhodol som sa vizualizovať tento dataframe na základe veku a pomeru sodíka k draslíku (Na_to_K) pre štyri parametre - Pohlavie (Sex), krvný tlak (BP), hladina cholesterolu (Cholesterol) a samotný liek (Drug)"
   ]
  },
  {
   "cell_type": "code",
   "execution_count": 7,
   "metadata": {},
   "outputs": [],
   "source": [
    "import matplotlib.pyplot as plt\n",
    "import seaborn as sns"
   ]
  },
  {
   "cell_type": "code",
   "execution_count": 8,
   "metadata": {},
   "outputs": [
    {
     "data": {
      "image/png": "[encoded data removed]",
      "text/plain": [
       "<Figure size 432x288 with 1 Axes>"
      ]
     },
     "metadata": {
      "needs_background": "light"
     },
     "output_type": "display_data"
    }
   ],
   "source": [
    "sns.swarmplot(x='Sex', y='Drug', data=df)\n",
    "plt.xlabel('Pohlavie')\n",
    "plt.ylabel('Lieky')\n",
    "plt.title(\"Vizualizácia jednotlivých liekov pri mužoch a ženách\")\n",
    "plt.show()"
   ]
  },
  {
   "cell_type": "markdown",
   "metadata": {},
   "source": [
    "Vizualizácia jednotlivých liekov pri mužoch a ženách nevykazuje žiadnu dôležitú odchýlku alebo vzorku. Pohlavie teda nemá vplyv na výber správneho lieku."
   ]
  },
  {
   "cell_type": "code",
   "execution_count": 9,
   "metadata": {},
   "outputs": [
    {
     "data": {
      "image/png": "[encoded data removed]",
      "text/plain": [
       "<Figure size 432x288 with 1 Axes>"
      ]
     },
     "metadata": {
      "needs_background": "light"
     },
     "output_type": "display_data"
    }
   ],
   "source": [
    "sns.swarmplot(x='Cholesterol', y='Drug', data=df)\n",
    "plt.xlabel('Cholesterol')\n",
    "plt.ylabel('Lieky')\n",
    "plt.title(\"Výskyt liekov pri vysokom a nízkom cholesterole\")\n",
    "plt.show()"
   ]
  },
  {
   "cell_type": "markdown",
   "metadata": {},
   "source": [
    "Z tejto vizualizácie je vidieť dva dôležité fakty:\n",
    "\n",
    "1. Liek C je len pre ľudí, ktorí majú vysoký cholesterol\n",
    "2. Ostatné lieky môžu byť použité pri všetkých zvyšných prípadoch "
   ]
  },
  {
   "cell_type": "code",
   "execution_count": 10,
   "metadata": {},
   "outputs": [
    {
     "data": {
      "image/png": "[encoded data removed]",
      "text/plain": [
       "<Figure size 360x360 with 1 Axes>"
      ]
     },
     "metadata": {
      "needs_background": "light"
     },
     "output_type": "display_data"
    }
   ],
   "source": [
    "plt.rcParams[\"figure.figsize\"] = (10,3)\n",
    "sns.relplot(x='BP', y='Drug', data=df, color='red')\n",
    "plt.xlabel('Krvny tlak')\n",
    "plt.ylabel('Lieky')\n",
    "plt.title(\"Výskyt liekov pri rôznych úrovniach krvného tlaku\")\n",
    "plt.grid()"
   ]
  },
  {
   "cell_type": "markdown",
   "metadata": {},
   "source": [
    "Podľa tejto vizualizácie môžeme vidieť určitú koreláciu druhov liekov s danou úrovňou cholesterolu:\n",
    "1. Liek Y je možné použiť pri všetkých úrovniach\n",
    "2. Liek A a liek B len pri vysokých úrovniach\n",
    "3. Liek X len pri nízkych úrovniach"
   ]
  },
  {
   "cell_type": "code",
   "execution_count": 11,
   "metadata": {},
   "outputs": [
    {
     "data": {
      "image/png": "[encoded data removed]",
      "text/plain": [
       "<Figure size 720x216 with 1 Axes>"
      ]
     },
     "metadata": {
      "needs_background": "light"
     },
     "output_type": "display_data"
    }
   ],
   "source": [
    "sns.swarmplot(x='Drug',y='Age', data=df)\n",
    "plt.xlabel('Lieky')\n",
    "plt.ylabel('Vek')\n",
    "plt.title(\"Výskyt liekov v danom veku pacientov\")\n",
    "plt.grid()"
   ]
  },
  {
   "cell_type": "markdown",
   "metadata": {},
   "source": [
    "Táto vizualizácia mi pomohla pochopiť najmä:\n",
    "\n",
    "1. Liek B je len pre ľudí starších, ako 50 rokov\n",
    "2. Liek A je len pre ľudí od 20 - 50 rokov\n",
    "3. Liek C sa vyskytuje najmenej\n",
    "4. Liek Y vyzerá byť, ako najbežnejší zo všetkých, môže to byť liek proti chrípke / nachladnutiu"
   ]
  },
  {
   "cell_type": "code",
   "execution_count": 12,
   "metadata": {},
   "outputs": [
    {
     "data": {
      "image/png": "[encoded data removed]",
      "text/plain": [
       "<Figure size 720x216 with 1 Axes>"
      ]
     },
     "metadata": {
      "needs_background": "light"
     },
     "output_type": "display_data"
    }
   ],
   "source": [
    "sns.distplot(df['Na_to_K'])\n",
    "plt.xlabel('Pomer sodíka k dralsíku')\n",
    "plt.ylabel('Hustota')\n",
    "plt.title(\"Hustota pre hodnotu: pomer sodíka k draslíku\")\n",
    "plt.show()"
   ]
  },
  {
   "cell_type": "code",
   "execution_count": 13,
   "metadata": {},
   "outputs": [
    {
     "data": {
      "image/png": "[encoded data removed]",
      "text/plain": [
       "<Figure size 720x216 with 1 Axes>"
      ]
     },
     "metadata": {
      "needs_background": "light"
     },
     "output_type": "display_data"
    }
   ],
   "source": [
    "sns.barplot(x = 'Drug', y = 'Na_to_K', data = df)\n",
    "plt.xlabel('Lieky')\n",
    "plt.ylabel('Pomer sodíka k draslíku')\n",
    "plt.title(\"Výskyt liekov pri daných hodnotách Na_to_K \")\n",
    "plt.show()"
   ]
  },
  {
   "cell_type": "markdown",
   "metadata": {},
   "source": [
    "- Väčšina ľudí má podobný pomer sodíka k draslíku\n",
    "- Všetky lieky okrem lieku Y sú používané pri rovnakých hladinách sodíka k draslíku"
   ]
  },
  {
   "cell_type": "code",
   "execution_count": 14,
   "metadata": {},
   "outputs": [
    {
     "data": {
      "image/png": "[encoded data removed]",
      "text/plain": [
       "<Figure size 720x216 with 1 Axes>"
      ]
     },
     "metadata": {
      "needs_background": "light"
     },
     "output_type": "display_data"
    }
   ],
   "source": [
    "sns.histplot(x = 'Drug', data = df)\n",
    "plt.xlabel('Lieky')\n",
    "plt.ylabel('Lieky')\n",
    "plt.title(\"Celkový výskyt liekov v celom datasete\")\n",
    "plt.show()"
   ]
  },
  {
   "cell_type": "markdown",
   "metadata": {},
   "source": [
    "# Predspracovanie dát"
   ]
  },
  {
   "cell_type": "code",
   "execution_count": 15,
   "metadata": {},
   "outputs": [
    {
     "data": {
      "text/html": [
       "<div>\n",
       "<style scoped>\n",
       "    .dataframe tbody tr th:only-of-type {\n",
       "        vertical-align: middle;\n",
       "    }\n",
       "\n",
       "    .dataframe tbody tr th {\n",
       "        vertical-align: top;\n",
       "    }\n",
       "\n",
       "    .dataframe thead th {\n",
       "        text-align: right;\n",
       "    }\n",
       "</style>\n",
       "<table border=\"1\" class=\"dataframe\">\n",
       "  <thead>\n",
       "    <tr style=\"text-align: right;\">\n",
       "      <th></th>\n",
       "      <th>Sex_F</th>\n",
       "      <th>Sex_M</th>\n",
       "      <th>BP_HIGH</th>\n",
       "      <th>BP_LOW</th>\n",
       "      <th>BP_NORMAL</th>\n",
       "      <th>Cholesterol_HIGH</th>\n",
       "      <th>Cholesterol_NORMAL</th>\n",
       "    </tr>\n",
       "  </thead>\n",
       "  <tbody>\n",
       "    <tr>\n",
       "      <th>0</th>\n",
       "      <td>1</td>\n",
       "      <td>0</td>\n",
       "      <td>1</td>\n",
       "      <td>0</td>\n",
       "      <td>0</td>\n",
       "      <td>1</td>\n",
       "      <td>0</td>\n",
       "    </tr>\n",
       "    <tr>\n",
       "      <th>1</th>\n",
       "      <td>0</td>\n",
       "      <td>1</td>\n",
       "      <td>0</td>\n",
       "      <td>1</td>\n",
       "      <td>0</td>\n",
       "      <td>1</td>\n",
       "      <td>0</td>\n",
       "    </tr>\n",
       "    <tr>\n",
       "      <th>2</th>\n",
       "      <td>0</td>\n",
       "      <td>1</td>\n",
       "      <td>0</td>\n",
       "      <td>1</td>\n",
       "      <td>0</td>\n",
       "      <td>1</td>\n",
       "      <td>0</td>\n",
       "    </tr>\n",
       "    <tr>\n",
       "      <th>3</th>\n",
       "      <td>1</td>\n",
       "      <td>0</td>\n",
       "      <td>0</td>\n",
       "      <td>0</td>\n",
       "      <td>1</td>\n",
       "      <td>1</td>\n",
       "      <td>0</td>\n",
       "    </tr>\n",
       "    <tr>\n",
       "      <th>4</th>\n",
       "      <td>1</td>\n",
       "      <td>0</td>\n",
       "      <td>0</td>\n",
       "      <td>1</td>\n",
       "      <td>0</td>\n",
       "      <td>1</td>\n",
       "      <td>0</td>\n",
       "    </tr>\n",
       "  </tbody>\n",
       "</table>\n",
       "</div>"
      ],
      "text/plain": [
       "   Sex_F  Sex_M  BP_HIGH  BP_LOW  BP_NORMAL  Cholesterol_HIGH  \\\n",
       "0      1      0        1       0          0                 1   \n",
       "1      0      1        0       1          0                 1   \n",
       "2      0      1        0       1          0                 1   \n",
       "3      1      0        0       0          1                 1   \n",
       "4      1      0        0       1          0                 1   \n",
       "\n",
       "   Cholesterol_NORMAL  \n",
       "0                   0  \n",
       "1                   0  \n",
       "2                   0  \n",
       "3                   0  \n",
       "4                   0  "
      ]
     },
     "execution_count": 15,
     "metadata": {},
     "output_type": "execute_result"
    }
   ],
   "source": [
    "# je potrebne este predspracovat kategoricke premenne pohlavie (sex), krvny tlak (BP) a hladinu cholesterolu (Cholesterol)\n",
    "# funckia get_dummies mi prevedie kategoricku premennu na fiktivne premenne, teda dostanem nove stlpce s nulami\n",
    "# a jednotkami, dalej mozem pracovat s cislami\n",
    "dummies = pd.get_dummies(df[['Sex', 'BP', 'Cholesterol']])\n",
    "dummies.head()"
   ]
  },
  {
   "cell_type": "code",
   "execution_count": 16,
   "metadata": {},
   "outputs": [
    {
     "data": {
      "text/html": [
       "<div>\n",
       "<style scoped>\n",
       "    .dataframe tbody tr th:only-of-type {\n",
       "        vertical-align: middle;\n",
       "    }\n",
       "\n",
       "    .dataframe tbody tr th {\n",
       "        vertical-align: top;\n",
       "    }\n",
       "\n",
       "    .dataframe thead th {\n",
       "        text-align: right;\n",
       "    }\n",
       "</style>\n",
       "<table border=\"1\" class=\"dataframe\">\n",
       "  <thead>\n",
       "    <tr style=\"text-align: right;\">\n",
       "      <th></th>\n",
       "      <th>Age</th>\n",
       "      <th>Sex</th>\n",
       "      <th>BP</th>\n",
       "      <th>Cholesterol</th>\n",
       "      <th>Na_to_K</th>\n",
       "      <th>Drug</th>\n",
       "      <th>Sex_F</th>\n",
       "      <th>Sex_M</th>\n",
       "      <th>BP_HIGH</th>\n",
       "      <th>BP_LOW</th>\n",
       "      <th>BP_NORMAL</th>\n",
       "      <th>Cholesterol_HIGH</th>\n",
       "      <th>Cholesterol_NORMAL</th>\n",
       "    </tr>\n",
       "  </thead>\n",
       "  <tbody>\n",
       "    <tr>\n",
       "      <th>0</th>\n",
       "      <td>23</td>\n",
       "      <td>F</td>\n",
       "      <td>HIGH</td>\n",
       "      <td>HIGH</td>\n",
       "      <td>25.355</td>\n",
       "      <td>DrugY</td>\n",
       "      <td>1</td>\n",
       "      <td>0</td>\n",
       "      <td>1</td>\n",
       "      <td>0</td>\n",
       "      <td>0</td>\n",
       "      <td>1</td>\n",
       "      <td>0</td>\n",
       "    </tr>\n",
       "    <tr>\n",
       "      <th>1</th>\n",
       "      <td>47</td>\n",
       "      <td>M</td>\n",
       "      <td>LOW</td>\n",
       "      <td>HIGH</td>\n",
       "      <td>13.093</td>\n",
       "      <td>drugC</td>\n",
       "      <td>0</td>\n",
       "      <td>1</td>\n",
       "      <td>0</td>\n",
       "      <td>1</td>\n",
       "      <td>0</td>\n",
       "      <td>1</td>\n",
       "      <td>0</td>\n",
       "    </tr>\n",
       "    <tr>\n",
       "      <th>2</th>\n",
       "      <td>47</td>\n",
       "      <td>M</td>\n",
       "      <td>LOW</td>\n",
       "      <td>HIGH</td>\n",
       "      <td>10.114</td>\n",
       "      <td>drugC</td>\n",
       "      <td>0</td>\n",
       "      <td>1</td>\n",
       "      <td>0</td>\n",
       "      <td>1</td>\n",
       "      <td>0</td>\n",
       "      <td>1</td>\n",
       "      <td>0</td>\n",
       "    </tr>\n",
       "    <tr>\n",
       "      <th>3</th>\n",
       "      <td>28</td>\n",
       "      <td>F</td>\n",
       "      <td>NORMAL</td>\n",
       "      <td>HIGH</td>\n",
       "      <td>7.798</td>\n",
       "      <td>drugX</td>\n",
       "      <td>1</td>\n",
       "      <td>0</td>\n",
       "      <td>0</td>\n",
       "      <td>0</td>\n",
       "      <td>1</td>\n",
       "      <td>1</td>\n",
       "      <td>0</td>\n",
       "    </tr>\n",
       "    <tr>\n",
       "      <th>4</th>\n",
       "      <td>61</td>\n",
       "      <td>F</td>\n",
       "      <td>LOW</td>\n",
       "      <td>HIGH</td>\n",
       "      <td>18.043</td>\n",
       "      <td>DrugY</td>\n",
       "      <td>1</td>\n",
       "      <td>0</td>\n",
       "      <td>0</td>\n",
       "      <td>1</td>\n",
       "      <td>0</td>\n",
       "      <td>1</td>\n",
       "      <td>0</td>\n",
       "    </tr>\n",
       "  </tbody>\n",
       "</table>\n",
       "</div>"
      ],
      "text/plain": [
       "   Age Sex      BP Cholesterol  Na_to_K   Drug  Sex_F  Sex_M  BP_HIGH  BP_LOW  \\\n",
       "0   23   F    HIGH        HIGH   25.355  DrugY      1      0        1       0   \n",
       "1   47   M     LOW        HIGH   13.093  drugC      0      1        0       1   \n",
       "2   47   M     LOW        HIGH   10.114  drugC      0      1        0       1   \n",
       "3   28   F  NORMAL        HIGH    7.798  drugX      1      0        0       0   \n",
       "4   61   F     LOW        HIGH   18.043  DrugY      1      0        0       1   \n",
       "\n",
       "   BP_NORMAL  Cholesterol_HIGH  Cholesterol_NORMAL  \n",
       "0          0                 1                   0  \n",
       "1          0                 1                   0  \n",
       "2          0                 1                   0  \n",
       "3          1                 1                   0  \n",
       "4          0                 1                   0  "
      ]
     },
     "execution_count": 16,
     "metadata": {},
     "output_type": "execute_result"
    }
   ],
   "source": [
    "# naslednuje spojenie fiktivneho dataframu dummies s mojim povodnym dataframeom df \n",
    "df = pd.concat([df,dummies], axis = 1)\n",
    "df.head()"
   ]
  },
  {
   "cell_type": "code",
   "execution_count": 17,
   "metadata": {},
   "outputs": [
    {
     "data": {
      "text/html": [
       "<div>\n",
       "<style scoped>\n",
       "    .dataframe tbody tr th:only-of-type {\n",
       "        vertical-align: middle;\n",
       "    }\n",
       "\n",
       "    .dataframe tbody tr th {\n",
       "        vertical-align: top;\n",
       "    }\n",
       "\n",
       "    .dataframe thead th {\n",
       "        text-align: right;\n",
       "    }\n",
       "</style>\n",
       "<table border=\"1\" class=\"dataframe\">\n",
       "  <thead>\n",
       "    <tr style=\"text-align: right;\">\n",
       "      <th></th>\n",
       "      <th>Age</th>\n",
       "      <th>Na_to_K</th>\n",
       "      <th>Drug</th>\n",
       "      <th>Sex_F</th>\n",
       "      <th>Sex_M</th>\n",
       "      <th>BP_HIGH</th>\n",
       "      <th>BP_LOW</th>\n",
       "      <th>BP_NORMAL</th>\n",
       "      <th>Cholesterol_HIGH</th>\n",
       "      <th>Cholesterol_NORMAL</th>\n",
       "    </tr>\n",
       "  </thead>\n",
       "  <tbody>\n",
       "    <tr>\n",
       "      <th>0</th>\n",
       "      <td>23</td>\n",
       "      <td>25.355</td>\n",
       "      <td>DrugY</td>\n",
       "      <td>1</td>\n",
       "      <td>0</td>\n",
       "      <td>1</td>\n",
       "      <td>0</td>\n",
       "      <td>0</td>\n",
       "      <td>1</td>\n",
       "      <td>0</td>\n",
       "    </tr>\n",
       "    <tr>\n",
       "      <th>1</th>\n",
       "      <td>47</td>\n",
       "      <td>13.093</td>\n",
       "      <td>drugC</td>\n",
       "      <td>0</td>\n",
       "      <td>1</td>\n",
       "      <td>0</td>\n",
       "      <td>1</td>\n",
       "      <td>0</td>\n",
       "      <td>1</td>\n",
       "      <td>0</td>\n",
       "    </tr>\n",
       "    <tr>\n",
       "      <th>2</th>\n",
       "      <td>47</td>\n",
       "      <td>10.114</td>\n",
       "      <td>drugC</td>\n",
       "      <td>0</td>\n",
       "      <td>1</td>\n",
       "      <td>0</td>\n",
       "      <td>1</td>\n",
       "      <td>0</td>\n",
       "      <td>1</td>\n",
       "      <td>0</td>\n",
       "    </tr>\n",
       "    <tr>\n",
       "      <th>3</th>\n",
       "      <td>28</td>\n",
       "      <td>7.798</td>\n",
       "      <td>drugX</td>\n",
       "      <td>1</td>\n",
       "      <td>0</td>\n",
       "      <td>0</td>\n",
       "      <td>0</td>\n",
       "      <td>1</td>\n",
       "      <td>1</td>\n",
       "      <td>0</td>\n",
       "    </tr>\n",
       "    <tr>\n",
       "      <th>4</th>\n",
       "      <td>61</td>\n",
       "      <td>18.043</td>\n",
       "      <td>DrugY</td>\n",
       "      <td>1</td>\n",
       "      <td>0</td>\n",
       "      <td>0</td>\n",
       "      <td>1</td>\n",
       "      <td>0</td>\n",
       "      <td>1</td>\n",
       "      <td>0</td>\n",
       "    </tr>\n",
       "  </tbody>\n",
       "</table>\n",
       "</div>"
      ],
      "text/plain": [
       "   Age  Na_to_K   Drug  Sex_F  Sex_M  BP_HIGH  BP_LOW  BP_NORMAL  \\\n",
       "0   23   25.355  DrugY      1      0        1       0          0   \n",
       "1   47   13.093  drugC      0      1        0       1          0   \n",
       "2   47   10.114  drugC      0      1        0       1          0   \n",
       "3   28    7.798  drugX      1      0        0       0          1   \n",
       "4   61   18.043  DrugY      1      0        0       1          0   \n",
       "\n",
       "   Cholesterol_HIGH  Cholesterol_NORMAL  \n",
       "0                 1                   0  \n",
       "1                 1                   0  \n",
       "2                 1                   0  \n",
       "3                 1                   0  \n",
       "4                 1                   0  "
      ]
     },
     "execution_count": 17,
     "metadata": {},
     "output_type": "execute_result"
    }
   ],
   "source": [
    "# ked uz mam prevedene kategoricke premenne na ciselne pre kazdy zaznam, mozem z dataframeu vymazat povodne stlpce\n",
    "# sex, BP a Cholesterol\n",
    "df = df.drop(['Sex', 'BP', 'Cholesterol'], axis = 1)\n",
    "df.head()"
   ]
  },
  {
   "cell_type": "markdown",
   "metadata": {},
   "source": [
    "# Train Test Split\n",
    "Použitie nástroju Train Test Split pre rýchle a efektívne rozdelenie dát do trénovacích a testovacích premnných, ktoré následne použijem pri učení"
   ]
  },
  {
   "cell_type": "code",
   "execution_count": 18,
   "metadata": {},
   "outputs": [],
   "source": [
    "X = df[['Age', 'Na_to_K', 'Sex_F', 'Sex_M', 'BP_HIGH', 'BP_LOW','BP_NORMAL', 'Cholesterol_HIGH', 'Cholesterol_NORMAL']]\n",
    "Y = df['Drug']\n",
    "Y = pd.get_dummies(Y)\n",
    "# vytvorenie premennej X, co bude predstavovat vstupnu vrstvu pre neuronovu siet, 9 parametrov\n",
    "# vytvorenie premennej Y, co bude predstavovat vystupnu vrstvu, vytvorim si z nej este\n",
    "# jednotkovu maticu, teda na vystupe bude 5 parametrov"
   ]
  },
  {
   "cell_type": "code",
   "execution_count": 19,
   "metadata": {},
   "outputs": [
    {
     "data": {
      "text/plain": [
       "((200, 9), (200, 5))"
      ]
     },
     "execution_count": 19,
     "metadata": {},
     "output_type": "execute_result"
    }
   ],
   "source": [
    "X.shape, Y.shape # kontrola rozmerov matic"
   ]
  },
  {
   "cell_type": "code",
   "execution_count": 20,
   "metadata": {},
   "outputs": [],
   "source": [
    "from sklearn.model_selection import train_test_split as tts\n",
    "\n",
    "X_train, X_test, Y_train, Y_test = tts(X, Y, test_size = 0.25, random_state = 42)\n",
    "# pouzitie train test split pre ucely klasifikacie dat\n",
    "# do trenovacih premennych si alokujem 75% dat z dataframeu\n",
    "# do testovacich premennych si alokujem zvysnu 25% dat z dataframe, co urcuje parameter test_size, random_state vybera nahodne hodnoty"
   ]
  },
  {
   "cell_type": "code",
   "execution_count": 21,
   "metadata": {
    "scrolled": true
   },
   "outputs": [
    {
     "name": "stdout",
     "output_type": "stream",
     "text": [
      "X_train shape : (150, 9)\n",
      "X_test shape : (50, 9)\n",
      "Y_train shape : (150, 5)\n",
      "Y_test shape : (50, 5)\n"
     ]
    }
   ],
   "source": [
    "for setd,name in zip([X_train,X_test,Y_train,Y_test],['X_train','X_test','Y_train','Y_test']):\n",
    "  print(name + ' shape : ' + str(setd.shape))\n",
    "# overenie velkosti test a train matic"
   ]
  },
  {
   "cell_type": "markdown",
   "metadata": {},
   "source": [
    "# Trénovanie neurónovej siete\n",
    "\n",
    "Na vytvorenie samotnej neurónovej siete som sa rozhodol použiť Sequental model od Kerasu. Vytvoril som si, ako bude model neurónu vyzerať pomocou vstupnej vrstvy Flatten, dvoch skrytých vrstiev Dense a výstupnej vrstvy Dense. Následne som pripravil model na fitting (trénovanie) pomocou metódy compile s optimizátorom 'adam' a sledujem tu metriku presnosti, teda 'accuracy'."
   ]
  },
  {
   "cell_type": "code",
   "execution_count": 22,
   "metadata": {},
   "outputs": [],
   "source": [
    "import keras\n",
    "from keras.layers import Dense\n",
    "from keras.models import Sequential\n",
    "from keras.layers import Flatten\n",
    "from keras.layers import Dropout"
   ]
  },
  {
   "cell_type": "code",
   "execution_count": 23,
   "metadata": {
    "scrolled": true
   },
   "outputs": [
    {
     "name": "stdout",
     "output_type": "stream",
     "text": [
      "Model: \"sequential\"\n",
      "_________________________________________________________________\n",
      "Layer (type)                 Output Shape              Param #   \n",
      "=================================================================\n",
      "flatten (Flatten)            (None, 9)                 0         \n",
      "_________________________________________________________________\n",
      "dense (Dense)                (None, 32)                320       \n",
      "_________________________________________________________________\n",
      "dropout (Dropout)            (None, 32)                0         \n",
      "_________________________________________________________________\n",
      "dense_1 (Dense)              (None, 16)                528       \n",
      "_________________________________________________________________\n",
      "dense_2 (Dense)              (None, 5)                 85        \n",
      "=================================================================\n",
      "Total params: 933\n",
      "Trainable params: 933\n",
      "Non-trainable params: 0\n",
      "_________________________________________________________________\n"
     ]
    }
   ],
   "source": [
    "model = Sequential([\n",
    "    # Flatten predstavuje vstupnu vrstvu, je tu 9 neuronov na zaklade datasetu\n",
    "    Flatten(input_dim=9),\n",
    "    Dense(32, activation='relu'), # prva skryta vrstva je o velkosti 32 neuronov, aktivacna funkcia relu\n",
    "    Dropout(0.5), # Dropout zabranuje pretrenovaniu (overfitting) neuronovej siete, 30 % udajov sa nepouzije\n",
    "    Dense(16, activation='relu'), # druha skryta vrstva o velkosti 16 neuronov, aktivacna funkcia relu\n",
    "    Dense(5, activation='sigmoid') # vystupna vrstva o velkosti 5 neuronov, aktivacna funkcia sigmoid\n",
    "])\n",
    "\n",
    "# na model pouzijem metodu compile, ktora mi ho nakonfiguruje na nasledne ucenie (fit), metrics urcuje, co sa bude\n",
    "# pri vypise zobrazovat, je to presnost (accuracy)\n",
    "model.compile(optimizer='adam', loss='mean_squared_error', metrics=['accuracy'])\n",
    "model.summary() # vypis modelu"
   ]
  },
  {
   "cell_type": "code",
   "execution_count": 24,
   "metadata": {
    "scrolled": true
   },
   "outputs": [
    {
     "name": "stdout",
     "output_type": "stream",
     "text": [
      "Epoch 1/250\n",
      "15/15 - 1s - loss: 0.4402 - accuracy: 0.1067 - val_loss: 0.3925 - val_accuracy: 0.1200\n",
      "Epoch 2/250\n",
      "15/15 - 0s - loss: 0.4127 - accuracy: 0.1533 - val_loss: 0.3699 - val_accuracy: 0.1200\n",
      "Epoch 3/250\n",
      "15/15 - 0s - loss: 0.3886 - accuracy: 0.1467 - val_loss: 0.3496 - val_accuracy: 0.1200\n",
      "Epoch 4/250\n",
      "15/15 - 0s - loss: 0.3601 - accuracy: 0.1400 - val_loss: 0.3395 - val_accuracy: 0.1200\n",
      "Epoch 5/250\n",
      "15/15 - 0s - loss: 0.3449 - accuracy: 0.1467 - val_loss: 0.3304 - val_accuracy: 0.1200\n",
      "Epoch 6/250\n",
      "15/15 - 0s - loss: 0.3214 - accuracy: 0.1600 - val_loss: 0.2851 - val_accuracy: 0.1200\n",
      "Epoch 7/250\n",
      "15/15 - 0s - loss: 0.3141 - accuracy: 0.1200 - val_loss: 0.2111 - val_accuracy: 0.1200\n",
      "Epoch 8/250\n",
      "15/15 - 0s - loss: 0.2841 - accuracy: 0.1533 - val_loss: 0.1924 - val_accuracy: 0.1800\n",
      "Epoch 9/250\n",
      "15/15 - 0s - loss: 0.2534 - accuracy: 0.1933 - val_loss: 0.1956 - val_accuracy: 0.2200\n",
      "Epoch 10/250\n",
      "15/15 - 0s - loss: 0.2375 - accuracy: 0.1533 - val_loss: 0.1960 - val_accuracy: 0.3000\n",
      "Epoch 11/250\n",
      "15/15 - 0s - loss: 0.2096 - accuracy: 0.1800 - val_loss: 0.1966 - val_accuracy: 0.3000\n",
      "Epoch 12/250\n",
      "15/15 - 0s - loss: 0.2139 - accuracy: 0.2067 - val_loss: 0.1965 - val_accuracy: 0.3000\n",
      "Epoch 13/250\n",
      "15/15 - 0s - loss: 0.1998 - accuracy: 0.2667 - val_loss: 0.1970 - val_accuracy: 0.3000\n",
      "Epoch 14/250\n",
      "15/15 - 0s - loss: 0.2045 - accuracy: 0.1933 - val_loss: 0.1967 - val_accuracy: 0.3000\n",
      "Epoch 15/250\n",
      "15/15 - 0s - loss: 0.1987 - accuracy: 0.2067 - val_loss: 0.1965 - val_accuracy: 0.3000\n",
      "Epoch 16/250\n",
      "15/15 - 0s - loss: 0.2005 - accuracy: 0.2200 - val_loss: 0.1963 - val_accuracy: 0.3000\n",
      "Epoch 17/250\n",
      "15/15 - 0s - loss: 0.2041 - accuracy: 0.2333 - val_loss: 0.1970 - val_accuracy: 0.3000\n",
      "Epoch 18/250\n",
      "15/15 - 0s - loss: 0.2020 - accuracy: 0.2600 - val_loss: 0.1974 - val_accuracy: 0.3000\n",
      "Epoch 19/250\n",
      "15/15 - 0s - loss: 0.1932 - accuracy: 0.2467 - val_loss: 0.1979 - val_accuracy: 0.3000\n",
      "Epoch 20/250\n",
      "15/15 - 0s - loss: 0.2049 - accuracy: 0.1733 - val_loss: 0.1980 - val_accuracy: 0.3000\n",
      "Epoch 21/250\n",
      "15/15 - 0s - loss: 0.2038 - accuracy: 0.2333 - val_loss: 0.1980 - val_accuracy: 0.3000\n",
      "Epoch 22/250\n",
      "15/15 - 0s - loss: 0.2015 - accuracy: 0.2133 - val_loss: 0.1980 - val_accuracy: 0.3000\n",
      "Epoch 23/250\n",
      "15/15 - 0s - loss: 0.1923 - accuracy: 0.2600 - val_loss: 0.1979 - val_accuracy: 0.3000\n",
      "Epoch 24/250\n",
      "15/15 - 0s - loss: 0.2017 - accuracy: 0.2333 - val_loss: 0.1976 - val_accuracy: 0.3000\n",
      "Epoch 25/250\n",
      "15/15 - 0s - loss: 0.1994 - accuracy: 0.2533 - val_loss: 0.1974 - val_accuracy: 0.3000\n",
      "Epoch 26/250\n",
      "15/15 - 0s - loss: 0.1941 - accuracy: 0.2800 - val_loss: 0.1970 - val_accuracy: 0.3000\n",
      "Epoch 27/250\n",
      "15/15 - 0s - loss: 0.1954 - accuracy: 0.2800 - val_loss: 0.1969 - val_accuracy: 0.3000\n",
      "Epoch 28/250\n",
      "15/15 - 0s - loss: 0.1910 - accuracy: 0.3667 - val_loss: 0.1965 - val_accuracy: 0.3000\n",
      "Epoch 29/250\n",
      "15/15 - 0s - loss: 0.1988 - accuracy: 0.2733 - val_loss: 0.1963 - val_accuracy: 0.3000\n",
      "Epoch 30/250\n",
      "15/15 - 0s - loss: 0.1879 - accuracy: 0.3400 - val_loss: 0.1959 - val_accuracy: 0.3000\n",
      "Epoch 31/250\n",
      "15/15 - 0s - loss: 0.1924 - accuracy: 0.2867 - val_loss: 0.1952 - val_accuracy: 0.3000\n",
      "Epoch 32/250\n",
      "15/15 - 0s - loss: 0.1890 - accuracy: 0.3333 - val_loss: 0.1960 - val_accuracy: 0.3000\n",
      "Epoch 33/250\n",
      "15/15 - 0s - loss: 0.1820 - accuracy: 0.3400 - val_loss: 0.1949 - val_accuracy: 0.3600\n",
      "Epoch 34/250\n",
      "15/15 - 0s - loss: 0.1883 - accuracy: 0.3467 - val_loss: 0.1927 - val_accuracy: 0.4000\n",
      "Epoch 35/250\n",
      "15/15 - 0s - loss: 0.1761 - accuracy: 0.3867 - val_loss: 0.1910 - val_accuracy: 0.4200\n",
      "Epoch 36/250\n",
      "15/15 - 0s - loss: 0.1833 - accuracy: 0.3533 - val_loss: 0.1878 - val_accuracy: 0.4400\n",
      "Epoch 37/250\n",
      "15/15 - 0s - loss: 0.1791 - accuracy: 0.4133 - val_loss: 0.1763 - val_accuracy: 0.5400\n",
      "Epoch 38/250\n",
      "15/15 - 0s - loss: 0.1690 - accuracy: 0.4267 - val_loss: 0.1637 - val_accuracy: 0.5200\n",
      "Epoch 39/250\n",
      "15/15 - 0s - loss: 0.1785 - accuracy: 0.3733 - val_loss: 0.1606 - val_accuracy: 0.5200\n",
      "Epoch 40/250\n",
      "15/15 - 0s - loss: 0.1760 - accuracy: 0.3667 - val_loss: 0.1446 - val_accuracy: 0.5200\n",
      "Epoch 41/250\n",
      "15/15 - 0s - loss: 0.1715 - accuracy: 0.4400 - val_loss: 0.1427 - val_accuracy: 0.5200\n",
      "Epoch 42/250\n",
      "15/15 - 0s - loss: 0.1745 - accuracy: 0.3800 - val_loss: 0.1446 - val_accuracy: 0.5600\n",
      "Epoch 43/250\n",
      "15/15 - 0s - loss: 0.1703 - accuracy: 0.4600 - val_loss: 0.1457 - val_accuracy: 0.5800\n",
      "Epoch 44/250\n",
      "15/15 - 0s - loss: 0.1621 - accuracy: 0.4467 - val_loss: 0.1435 - val_accuracy: 0.5600\n",
      "Epoch 45/250\n",
      "15/15 - 0s - loss: 0.1664 - accuracy: 0.4600 - val_loss: 0.1395 - val_accuracy: 0.5600\n",
      "Epoch 46/250\n",
      "15/15 - 0s - loss: 0.1565 - accuracy: 0.4933 - val_loss: 0.1391 - val_accuracy: 0.5600\n",
      "Epoch 47/250\n",
      "15/15 - 0s - loss: 0.1550 - accuracy: 0.4933 - val_loss: 0.1371 - val_accuracy: 0.5800\n",
      "Epoch 48/250\n",
      "15/15 - 0s - loss: 0.1468 - accuracy: 0.4800 - val_loss: 0.1368 - val_accuracy: 0.5800\n",
      "Epoch 49/250\n",
      "15/15 - 0s - loss: 0.1532 - accuracy: 0.4400 - val_loss: 0.1363 - val_accuracy: 0.5800\n",
      "Epoch 50/250\n",
      "15/15 - 0s - loss: 0.1399 - accuracy: 0.5267 - val_loss: 0.1381 - val_accuracy: 0.5600\n",
      "Epoch 51/250\n",
      "15/15 - 0s - loss: 0.1462 - accuracy: 0.5067 - val_loss: 0.1336 - val_accuracy: 0.5800\n",
      "Epoch 52/250\n",
      "15/15 - 0s - loss: 0.1430 - accuracy: 0.4933 - val_loss: 0.1323 - val_accuracy: 0.5800\n",
      "Epoch 53/250\n",
      "15/15 - 0s - loss: 0.1351 - accuracy: 0.5200 - val_loss: 0.1313 - val_accuracy: 0.5600\n",
      "Epoch 54/250\n",
      "15/15 - 0s - loss: 0.1468 - accuracy: 0.5000 - val_loss: 0.1303 - val_accuracy: 0.5800\n",
      "Epoch 55/250\n",
      "15/15 - 0s - loss: 0.1405 - accuracy: 0.5467 - val_loss: 0.1319 - val_accuracy: 0.5600\n",
      "Epoch 56/250\n",
      "15/15 - 0s - loss: 0.1343 - accuracy: 0.4933 - val_loss: 0.1294 - val_accuracy: 0.5600\n",
      "Epoch 57/250\n",
      "15/15 - 0s - loss: 0.1342 - accuracy: 0.5467 - val_loss: 0.1274 - val_accuracy: 0.5800\n",
      "Epoch 58/250\n",
      "15/15 - 0s - loss: 0.1358 - accuracy: 0.5067 - val_loss: 0.1297 - val_accuracy: 0.5600\n",
      "Epoch 59/250\n",
      "15/15 - 0s - loss: 0.1363 - accuracy: 0.5267 - val_loss: 0.1323 - val_accuracy: 0.5600\n",
      "Epoch 60/250\n",
      "15/15 - 0s - loss: 0.1276 - accuracy: 0.5333 - val_loss: 0.1313 - val_accuracy: 0.5600\n",
      "Epoch 61/250\n",
      "15/15 - 0s - loss: 0.1401 - accuracy: 0.5200 - val_loss: 0.1289 - val_accuracy: 0.5600\n",
      "Epoch 62/250\n",
      "15/15 - 0s - loss: 0.1285 - accuracy: 0.4933 - val_loss: 0.1254 - val_accuracy: 0.5800\n",
      "Epoch 63/250\n",
      "15/15 - 0s - loss: 0.1263 - accuracy: 0.5733 - val_loss: 0.1265 - val_accuracy: 0.5600\n",
      "Epoch 64/250\n",
      "15/15 - 0s - loss: 0.1313 - accuracy: 0.5133 - val_loss: 0.1283 - val_accuracy: 0.5600\n",
      "Epoch 65/250\n",
      "15/15 - 0s - loss: 0.1324 - accuracy: 0.5133 - val_loss: 0.1223 - val_accuracy: 0.5800\n",
      "Epoch 66/250\n",
      "15/15 - 0s - loss: 0.1287 - accuracy: 0.5400 - val_loss: 0.1242 - val_accuracy: 0.5800\n",
      "Epoch 67/250\n",
      "15/15 - 0s - loss: 0.1274 - accuracy: 0.5467 - val_loss: 0.1253 - val_accuracy: 0.5600\n",
      "Epoch 68/250\n",
      "15/15 - 0s - loss: 0.1230 - accuracy: 0.5400 - val_loss: 0.1256 - val_accuracy: 0.5600\n",
      "Epoch 69/250\n",
      "15/15 - 0s - loss: 0.1258 - accuracy: 0.5600 - val_loss: 0.1255 - val_accuracy: 0.5600\n",
      "Epoch 70/250\n",
      "15/15 - 0s - loss: 0.1250 - accuracy: 0.5467 - val_loss: 0.1242 - val_accuracy: 0.5800\n",
      "Epoch 71/250\n",
      "15/15 - 0s - loss: 0.1230 - accuracy: 0.5400 - val_loss: 0.1218 - val_accuracy: 0.5600\n",
      "Epoch 72/250\n",
      "15/15 - 0s - loss: 0.1164 - accuracy: 0.5533 - val_loss: 0.1201 - val_accuracy: 0.5600\n",
      "Epoch 73/250\n",
      "15/15 - 0s - loss: 0.1216 - accuracy: 0.5333 - val_loss: 0.1188 - val_accuracy: 0.5600\n",
      "Epoch 74/250\n",
      "15/15 - 0s - loss: 0.1264 - accuracy: 0.5267 - val_loss: 0.1179 - val_accuracy: 0.5600\n",
      "Epoch 75/250\n",
      "15/15 - 0s - loss: 0.1119 - accuracy: 0.5800 - val_loss: 0.1192 - val_accuracy: 0.5600\n",
      "Epoch 76/250\n",
      "15/15 - 0s - loss: 0.1173 - accuracy: 0.5333 - val_loss: 0.1156 - val_accuracy: 0.5800\n",
      "Epoch 77/250\n",
      "15/15 - 0s - loss: 0.1185 - accuracy: 0.5733 - val_loss: 0.1211 - val_accuracy: 0.5400\n",
      "Epoch 78/250\n",
      "15/15 - 0s - loss: 0.1211 - accuracy: 0.5600 - val_loss: 0.1141 - val_accuracy: 0.5800\n",
      "Epoch 79/250\n",
      "15/15 - 0s - loss: 0.1228 - accuracy: 0.5333 - val_loss: 0.1175 - val_accuracy: 0.5600\n",
      "Epoch 80/250\n",
      "15/15 - 0s - loss: 0.1152 - accuracy: 0.5333 - val_loss: 0.1169 - val_accuracy: 0.5600\n",
      "Epoch 81/250\n",
      "15/15 - 0s - loss: 0.1139 - accuracy: 0.6067 - val_loss: 0.1169 - val_accuracy: 0.5600\n",
      "Epoch 82/250\n",
      "15/15 - 0s - loss: 0.1085 - accuracy: 0.6133 - val_loss: 0.1165 - val_accuracy: 0.5600\n",
      "Epoch 83/250\n"
     ]
    },
    {
     "name": "stdout",
     "output_type": "stream",
     "text": [
      "15/15 - 0s - loss: 0.1102 - accuracy: 0.6000 - val_loss: 0.1137 - val_accuracy: 0.5800\n",
      "Epoch 84/250\n",
      "15/15 - 0s - loss: 0.1130 - accuracy: 0.5733 - val_loss: 0.1139 - val_accuracy: 0.5800\n",
      "Epoch 85/250\n",
      "15/15 - 0s - loss: 0.1123 - accuracy: 0.5867 - val_loss: 0.1134 - val_accuracy: 0.6000\n",
      "Epoch 86/250\n",
      "15/15 - 0s - loss: 0.1148 - accuracy: 0.5667 - val_loss: 0.1131 - val_accuracy: 0.5600\n",
      "Epoch 87/250\n",
      "15/15 - 0s - loss: 0.1140 - accuracy: 0.5733 - val_loss: 0.1116 - val_accuracy: 0.5800\n",
      "Epoch 88/250\n",
      "15/15 - 0s - loss: 0.1130 - accuracy: 0.5533 - val_loss: 0.1125 - val_accuracy: 0.5600\n",
      "Epoch 89/250\n",
      "15/15 - 0s - loss: 0.1081 - accuracy: 0.6000 - val_loss: 0.1148 - val_accuracy: 0.5400\n",
      "Epoch 90/250\n",
      "15/15 - 0s - loss: 0.1079 - accuracy: 0.5867 - val_loss: 0.1113 - val_accuracy: 0.6000\n",
      "Epoch 91/250\n",
      "15/15 - 0s - loss: 0.1107 - accuracy: 0.5600 - val_loss: 0.1123 - val_accuracy: 0.5600\n",
      "Epoch 92/250\n",
      "15/15 - 0s - loss: 0.1083 - accuracy: 0.5933 - val_loss: 0.1119 - val_accuracy: 0.5600\n",
      "Epoch 93/250\n",
      "15/15 - 0s - loss: 0.1069 - accuracy: 0.6000 - val_loss: 0.1100 - val_accuracy: 0.6000\n",
      "Epoch 94/250\n",
      "15/15 - 0s - loss: 0.1103 - accuracy: 0.6067 - val_loss: 0.1099 - val_accuracy: 0.6000\n",
      "Epoch 95/250\n",
      "15/15 - 0s - loss: 0.1064 - accuracy: 0.5800 - val_loss: 0.1090 - val_accuracy: 0.6200\n",
      "Epoch 96/250\n",
      "15/15 - 0s - loss: 0.1075 - accuracy: 0.5867 - val_loss: 0.1096 - val_accuracy: 0.6000\n",
      "Epoch 97/250\n",
      "15/15 - 0s - loss: 0.1067 - accuracy: 0.6267 - val_loss: 0.1099 - val_accuracy: 0.6000\n",
      "Epoch 98/250\n",
      "15/15 - 0s - loss: 0.1031 - accuracy: 0.6000 - val_loss: 0.1076 - val_accuracy: 0.6200\n",
      "Epoch 99/250\n",
      "15/15 - 0s - loss: 0.1065 - accuracy: 0.6200 - val_loss: 0.1079 - val_accuracy: 0.6000\n",
      "Epoch 100/250\n",
      "15/15 - 0s - loss: 0.1028 - accuracy: 0.6400 - val_loss: 0.1082 - val_accuracy: 0.5800\n",
      "Epoch 101/250\n",
      "15/15 - 0s - loss: 0.1058 - accuracy: 0.6067 - val_loss: 0.1064 - val_accuracy: 0.6200\n",
      "Epoch 102/250\n",
      "15/15 - 0s - loss: 0.1081 - accuracy: 0.5600 - val_loss: 0.1082 - val_accuracy: 0.5800\n",
      "Epoch 103/250\n",
      "15/15 - 0s - loss: 0.1065 - accuracy: 0.5867 - val_loss: 0.1053 - val_accuracy: 0.6400\n",
      "Epoch 104/250\n",
      "15/15 - 0s - loss: 0.1102 - accuracy: 0.5800 - val_loss: 0.1078 - val_accuracy: 0.6000\n",
      "Epoch 105/250\n",
      "15/15 - 0s - loss: 0.1012 - accuracy: 0.6400 - val_loss: 0.1060 - val_accuracy: 0.6200\n",
      "Epoch 106/250\n",
      "15/15 - 0s - loss: 0.1054 - accuracy: 0.6133 - val_loss: 0.1065 - val_accuracy: 0.6000\n",
      "Epoch 107/250\n",
      "15/15 - 0s - loss: 0.1051 - accuracy: 0.6133 - val_loss: 0.1068 - val_accuracy: 0.5600\n",
      "Epoch 108/250\n",
      "15/15 - 0s - loss: 0.1005 - accuracy: 0.6067 - val_loss: 0.1032 - val_accuracy: 0.6400\n",
      "Epoch 109/250\n",
      "15/15 - 0s - loss: 0.1022 - accuracy: 0.6200 - val_loss: 0.1047 - val_accuracy: 0.6200\n",
      "Epoch 110/250\n",
      "15/15 - 0s - loss: 0.1022 - accuracy: 0.6200 - val_loss: 0.1056 - val_accuracy: 0.6200\n",
      "Epoch 111/250\n",
      "15/15 - 0s - loss: 0.0973 - accuracy: 0.6200 - val_loss: 0.1047 - val_accuracy: 0.6200\n",
      "Epoch 112/250\n",
      "15/15 - 0s - loss: 0.1036 - accuracy: 0.6067 - val_loss: 0.1043 - val_accuracy: 0.6200\n",
      "Epoch 113/250\n",
      "15/15 - 0s - loss: 0.0961 - accuracy: 0.6467 - val_loss: 0.1043 - val_accuracy: 0.6400\n",
      "Epoch 114/250\n",
      "15/15 - 0s - loss: 0.1074 - accuracy: 0.6133 - val_loss: 0.1047 - val_accuracy: 0.6200\n",
      "Epoch 115/250\n",
      "15/15 - 0s - loss: 0.1006 - accuracy: 0.6200 - val_loss: 0.1048 - val_accuracy: 0.6000\n",
      "Epoch 116/250\n",
      "15/15 - 0s - loss: 0.1008 - accuracy: 0.6067 - val_loss: 0.1029 - val_accuracy: 0.6400\n",
      "Epoch 117/250\n",
      "15/15 - 0s - loss: 0.1010 - accuracy: 0.6067 - val_loss: 0.1033 - val_accuracy: 0.6200\n",
      "Epoch 118/250\n",
      "15/15 - 0s - loss: 0.0979 - accuracy: 0.6200 - val_loss: 0.1045 - val_accuracy: 0.6200\n",
      "Epoch 119/250\n",
      "15/15 - 0s - loss: 0.0980 - accuracy: 0.6267 - val_loss: 0.1012 - val_accuracy: 0.6400\n",
      "Epoch 120/250\n",
      "15/15 - 0s - loss: 0.0929 - accuracy: 0.6333 - val_loss: 0.1012 - val_accuracy: 0.6400\n",
      "Epoch 121/250\n",
      "15/15 - 0s - loss: 0.1014 - accuracy: 0.6467 - val_loss: 0.1017 - val_accuracy: 0.6400\n",
      "Epoch 122/250\n",
      "15/15 - 0s - loss: 0.0997 - accuracy: 0.6400 - val_loss: 0.1012 - val_accuracy: 0.6400\n",
      "Epoch 123/250\n",
      "15/15 - 0s - loss: 0.1014 - accuracy: 0.6267 - val_loss: 0.1020 - val_accuracy: 0.6200\n",
      "Epoch 124/250\n",
      "15/15 - 0s - loss: 0.0926 - accuracy: 0.6467 - val_loss: 0.1008 - val_accuracy: 0.6200\n",
      "Epoch 125/250\n",
      "15/15 - 0s - loss: 0.1017 - accuracy: 0.5933 - val_loss: 0.1009 - val_accuracy: 0.6200\n",
      "Epoch 126/250\n",
      "15/15 - 0s - loss: 0.0986 - accuracy: 0.6400 - val_loss: 0.0997 - val_accuracy: 0.6200\n",
      "Epoch 127/250\n",
      "15/15 - 0s - loss: 0.0966 - accuracy: 0.6333 - val_loss: 0.1001 - val_accuracy: 0.6200\n",
      "Epoch 128/250\n",
      "15/15 - 0s - loss: 0.0970 - accuracy: 0.6200 - val_loss: 0.0989 - val_accuracy: 0.6400\n",
      "Epoch 129/250\n",
      "15/15 - 0s - loss: 0.0928 - accuracy: 0.6467 - val_loss: 0.0985 - val_accuracy: 0.6400\n",
      "Epoch 130/250\n",
      "15/15 - 0s - loss: 0.0928 - accuracy: 0.6533 - val_loss: 0.0985 - val_accuracy: 0.6400\n",
      "Epoch 131/250\n",
      "15/15 - 0s - loss: 0.0962 - accuracy: 0.6467 - val_loss: 0.0991 - val_accuracy: 0.6400\n",
      "Epoch 132/250\n",
      "15/15 - 0s - loss: 0.0960 - accuracy: 0.6667 - val_loss: 0.0990 - val_accuracy: 0.6400\n",
      "Epoch 133/250\n",
      "15/15 - 0s - loss: 0.0946 - accuracy: 0.6267 - val_loss: 0.0979 - val_accuracy: 0.6400\n",
      "Epoch 134/250\n",
      "15/15 - 0s - loss: 0.0955 - accuracy: 0.6467 - val_loss: 0.0980 - val_accuracy: 0.6200\n",
      "Epoch 135/250\n",
      "15/15 - 0s - loss: 0.0937 - accuracy: 0.6533 - val_loss: 0.0969 - val_accuracy: 0.6600\n",
      "Epoch 136/250\n",
      "15/15 - 0s - loss: 0.0963 - accuracy: 0.6200 - val_loss: 0.0980 - val_accuracy: 0.6400\n",
      "Epoch 137/250\n",
      "15/15 - 0s - loss: 0.0940 - accuracy: 0.6533 - val_loss: 0.0959 - val_accuracy: 0.6600\n",
      "Epoch 138/250\n",
      "15/15 - 0s - loss: 0.0907 - accuracy: 0.6600 - val_loss: 0.0965 - val_accuracy: 0.6400\n",
      "Epoch 139/250\n",
      "15/15 - 0s - loss: 0.0920 - accuracy: 0.6600 - val_loss: 0.0965 - val_accuracy: 0.6200\n",
      "Epoch 140/250\n",
      "15/15 - 0s - loss: 0.0927 - accuracy: 0.6400 - val_loss: 0.0952 - val_accuracy: 0.6600\n",
      "Epoch 141/250\n",
      "15/15 - 0s - loss: 0.0915 - accuracy: 0.6467 - val_loss: 0.0946 - val_accuracy: 0.6600\n",
      "Epoch 142/250\n",
      "15/15 - 0s - loss: 0.0988 - accuracy: 0.6533 - val_loss: 0.0948 - val_accuracy: 0.6600\n",
      "Epoch 143/250\n",
      "15/15 - 0s - loss: 0.0923 - accuracy: 0.6467 - val_loss: 0.0939 - val_accuracy: 0.6600\n",
      "Epoch 144/250\n",
      "15/15 - 0s - loss: 0.0942 - accuracy: 0.6533 - val_loss: 0.0950 - val_accuracy: 0.6600\n",
      "Epoch 145/250\n",
      "15/15 - 0s - loss: 0.0942 - accuracy: 0.6533 - val_loss: 0.0944 - val_accuracy: 0.6600\n",
      "Epoch 146/250\n",
      "15/15 - 0s - loss: 0.0871 - accuracy: 0.6800 - val_loss: 0.0961 - val_accuracy: 0.6200\n",
      "Epoch 147/250\n",
      "15/15 - 0s - loss: 0.0946 - accuracy: 0.6267 - val_loss: 0.0951 - val_accuracy: 0.6400\n",
      "Epoch 148/250\n",
      "15/15 - 0s - loss: 0.0945 - accuracy: 0.6200 - val_loss: 0.0938 - val_accuracy: 0.6600\n",
      "Epoch 149/250\n",
      "15/15 - 0s - loss: 0.0890 - accuracy: 0.6600 - val_loss: 0.0930 - val_accuracy: 0.6600\n",
      "Epoch 150/250\n",
      "15/15 - 0s - loss: 0.0896 - accuracy: 0.6667 - val_loss: 0.0940 - val_accuracy: 0.6600\n",
      "Epoch 151/250\n",
      "15/15 - 0s - loss: 0.0875 - accuracy: 0.6667 - val_loss: 0.0910 - val_accuracy: 0.6600\n",
      "Epoch 152/250\n",
      "15/15 - 0s - loss: 0.0886 - accuracy: 0.6667 - val_loss: 0.0901 - val_accuracy: 0.6600\n",
      "Epoch 153/250\n",
      "15/15 - 0s - loss: 0.0874 - accuracy: 0.6533 - val_loss: 0.0906 - val_accuracy: 0.6600\n",
      "Epoch 154/250\n",
      "15/15 - 0s - loss: 0.0885 - accuracy: 0.6600 - val_loss: 0.0898 - val_accuracy: 0.6600\n",
      "Epoch 155/250\n",
      "15/15 - 0s - loss: 0.0883 - accuracy: 0.6800 - val_loss: 0.0892 - val_accuracy: 0.6600\n",
      "Epoch 156/250\n",
      "15/15 - 0s - loss: 0.0829 - accuracy: 0.6933 - val_loss: 0.0878 - val_accuracy: 0.6600\n",
      "Epoch 157/250\n",
      "15/15 - 0s - loss: 0.0858 - accuracy: 0.6733 - val_loss: 0.0868 - val_accuracy: 0.6600\n",
      "Epoch 158/250\n",
      "15/15 - 0s - loss: 0.0849 - accuracy: 0.6733 - val_loss: 0.0872 - val_accuracy: 0.6600\n",
      "Epoch 159/250\n",
      "15/15 - 0s - loss: 0.0921 - accuracy: 0.6600 - val_loss: 0.0868 - val_accuracy: 0.6600\n",
      "Epoch 160/250\n",
      "15/15 - 0s - loss: 0.0872 - accuracy: 0.6867 - val_loss: 0.0866 - val_accuracy: 0.6600\n",
      "Epoch 161/250\n",
      "15/15 - 0s - loss: 0.0842 - accuracy: 0.6933 - val_loss: 0.0865 - val_accuracy: 0.6600\n",
      "Epoch 162/250\n",
      "15/15 - 0s - loss: 0.0855 - accuracy: 0.6467 - val_loss: 0.0836 - val_accuracy: 0.6600\n",
      "Epoch 163/250\n",
      "15/15 - 0s - loss: 0.0872 - accuracy: 0.6867 - val_loss: 0.0852 - val_accuracy: 0.6600\n",
      "Epoch 164/250\n",
      "15/15 - 0s - loss: 0.0872 - accuracy: 0.6467 - val_loss: 0.0843 - val_accuracy: 0.6600\n"
     ]
    },
    {
     "name": "stdout",
     "output_type": "stream",
     "text": [
      "Epoch 165/250\n",
      "15/15 - 0s - loss: 0.0836 - accuracy: 0.6667 - val_loss: 0.0837 - val_accuracy: 0.6600\n",
      "Epoch 166/250\n",
      "15/15 - 0s - loss: 0.0862 - accuracy: 0.6733 - val_loss: 0.0843 - val_accuracy: 0.6600\n",
      "Epoch 167/250\n",
      "15/15 - 0s - loss: 0.0814 - accuracy: 0.7067 - val_loss: 0.0847 - val_accuracy: 0.6400\n",
      "Epoch 168/250\n",
      "15/15 - 0s - loss: 0.0822 - accuracy: 0.7067 - val_loss: 0.0837 - val_accuracy: 0.6400\n",
      "Epoch 169/250\n",
      "15/15 - 0s - loss: 0.0806 - accuracy: 0.7267 - val_loss: 0.0832 - val_accuracy: 0.6400\n",
      "Epoch 170/250\n",
      "15/15 - 0s - loss: 0.0790 - accuracy: 0.7133 - val_loss: 0.0824 - val_accuracy: 0.6800\n",
      "Epoch 171/250\n",
      "15/15 - 0s - loss: 0.0871 - accuracy: 0.6733 - val_loss: 0.0827 - val_accuracy: 0.6800\n",
      "Epoch 172/250\n",
      "15/15 - 0s - loss: 0.0820 - accuracy: 0.7133 - val_loss: 0.0830 - val_accuracy: 0.6800\n",
      "Epoch 173/250\n",
      "15/15 - 0s - loss: 0.0789 - accuracy: 0.7067 - val_loss: 0.0796 - val_accuracy: 0.7000\n",
      "Epoch 174/250\n",
      "15/15 - 0s - loss: 0.0795 - accuracy: 0.7133 - val_loss: 0.0794 - val_accuracy: 0.7000\n",
      "Epoch 175/250\n",
      "15/15 - 0s - loss: 0.0807 - accuracy: 0.6933 - val_loss: 0.0807 - val_accuracy: 0.7000\n",
      "Epoch 176/250\n",
      "15/15 - 0s - loss: 0.0790 - accuracy: 0.6933 - val_loss: 0.0813 - val_accuracy: 0.7000\n",
      "Epoch 177/250\n",
      "15/15 - 0s - loss: 0.0774 - accuracy: 0.7333 - val_loss: 0.0804 - val_accuracy: 0.7000\n",
      "Epoch 178/250\n",
      "15/15 - 0s - loss: 0.0766 - accuracy: 0.7067 - val_loss: 0.0793 - val_accuracy: 0.6800\n",
      "Epoch 179/250\n",
      "15/15 - 0s - loss: 0.0812 - accuracy: 0.7000 - val_loss: 0.0811 - val_accuracy: 0.7000\n",
      "Epoch 180/250\n",
      "15/15 - 0s - loss: 0.0748 - accuracy: 0.7200 - val_loss: 0.0782 - val_accuracy: 0.7000\n",
      "Epoch 181/250\n",
      "15/15 - 0s - loss: 0.0771 - accuracy: 0.7533 - val_loss: 0.0786 - val_accuracy: 0.7000\n",
      "Epoch 182/250\n",
      "15/15 - 0s - loss: 0.0757 - accuracy: 0.7200 - val_loss: 0.0808 - val_accuracy: 0.6600\n",
      "Epoch 183/250\n",
      "15/15 - 0s - loss: 0.0795 - accuracy: 0.7200 - val_loss: 0.0772 - val_accuracy: 0.7000\n",
      "Epoch 184/250\n",
      "15/15 - 0s - loss: 0.0728 - accuracy: 0.7667 - val_loss: 0.0745 - val_accuracy: 0.7200\n",
      "Epoch 185/250\n",
      "15/15 - 0s - loss: 0.0740 - accuracy: 0.7467 - val_loss: 0.0749 - val_accuracy: 0.7000\n",
      "Epoch 186/250\n",
      "15/15 - 0s - loss: 0.0764 - accuracy: 0.7533 - val_loss: 0.0764 - val_accuracy: 0.7000\n",
      "Epoch 187/250\n",
      "15/15 - 0s - loss: 0.0816 - accuracy: 0.6933 - val_loss: 0.0748 - val_accuracy: 0.7200\n",
      "Epoch 188/250\n",
      "15/15 - 0s - loss: 0.0814 - accuracy: 0.7333 - val_loss: 0.0745 - val_accuracy: 0.7000\n",
      "Epoch 189/250\n",
      "15/15 - 0s - loss: 0.0783 - accuracy: 0.7133 - val_loss: 0.0772 - val_accuracy: 0.6800\n",
      "Epoch 190/250\n",
      "15/15 - 0s - loss: 0.0709 - accuracy: 0.7467 - val_loss: 0.0742 - val_accuracy: 0.7400\n",
      "Epoch 191/250\n",
      "15/15 - 0s - loss: 0.0706 - accuracy: 0.7333 - val_loss: 0.0742 - val_accuracy: 0.7400\n",
      "Epoch 192/250\n",
      "15/15 - 0s - loss: 0.0792 - accuracy: 0.7067 - val_loss: 0.0753 - val_accuracy: 0.7000\n",
      "Epoch 193/250\n",
      "15/15 - 0s - loss: 0.0712 - accuracy: 0.7400 - val_loss: 0.0728 - val_accuracy: 0.7200\n",
      "Epoch 194/250\n",
      "15/15 - 0s - loss: 0.0746 - accuracy: 0.7467 - val_loss: 0.0724 - val_accuracy: 0.7200\n",
      "Epoch 195/250\n",
      "15/15 - 0s - loss: 0.0711 - accuracy: 0.7467 - val_loss: 0.0702 - val_accuracy: 0.7400\n",
      "Epoch 196/250\n",
      "15/15 - 0s - loss: 0.0704 - accuracy: 0.7600 - val_loss: 0.0690 - val_accuracy: 0.7400\n",
      "Epoch 197/250\n",
      "15/15 - 0s - loss: 0.0756 - accuracy: 0.7267 - val_loss: 0.0715 - val_accuracy: 0.7400\n",
      "Epoch 198/250\n",
      "15/15 - 0s - loss: 0.0742 - accuracy: 0.7667 - val_loss: 0.0720 - val_accuracy: 0.7400\n",
      "Epoch 199/250\n",
      "15/15 - 0s - loss: 0.0735 - accuracy: 0.7533 - val_loss: 0.0692 - val_accuracy: 0.7400\n",
      "Epoch 200/250\n",
      "15/15 - 0s - loss: 0.0754 - accuracy: 0.7467 - val_loss: 0.0685 - val_accuracy: 0.7400\n",
      "Epoch 201/250\n",
      "15/15 - 0s - loss: 0.0703 - accuracy: 0.7533 - val_loss: 0.0695 - val_accuracy: 0.7200\n",
      "Epoch 202/250\n",
      "15/15 - 0s - loss: 0.0649 - accuracy: 0.7867 - val_loss: 0.0685 - val_accuracy: 0.7200\n",
      "Epoch 203/250\n",
      "15/15 - 0s - loss: 0.0662 - accuracy: 0.7800 - val_loss: 0.0674 - val_accuracy: 0.7600\n",
      "Epoch 204/250\n",
      "15/15 - 0s - loss: 0.0795 - accuracy: 0.7533 - val_loss: 0.0685 - val_accuracy: 0.7600\n",
      "Epoch 205/250\n",
      "15/15 - 0s - loss: 0.0739 - accuracy: 0.7400 - val_loss: 0.0699 - val_accuracy: 0.7600\n",
      "Epoch 206/250\n",
      "15/15 - 0s - loss: 0.0677 - accuracy: 0.7800 - val_loss: 0.0685 - val_accuracy: 0.7600\n",
      "Epoch 207/250\n",
      "15/15 - 0s - loss: 0.0726 - accuracy: 0.7267 - val_loss: 0.0687 - val_accuracy: 0.7400\n",
      "Epoch 208/250\n",
      "15/15 - 0s - loss: 0.0731 - accuracy: 0.7533 - val_loss: 0.0674 - val_accuracy: 0.7800\n",
      "Epoch 209/250\n",
      "15/15 - 0s - loss: 0.0652 - accuracy: 0.8067 - val_loss: 0.0672 - val_accuracy: 0.7800\n",
      "Epoch 210/250\n",
      "15/15 - 0s - loss: 0.0676 - accuracy: 0.7933 - val_loss: 0.0680 - val_accuracy: 0.7600\n",
      "Epoch 211/250\n",
      "15/15 - 0s - loss: 0.0750 - accuracy: 0.7333 - val_loss: 0.0672 - val_accuracy: 0.7600\n",
      "Epoch 212/250\n",
      "15/15 - 0s - loss: 0.0687 - accuracy: 0.7867 - val_loss: 0.0655 - val_accuracy: 0.7800\n",
      "Epoch 213/250\n",
      "15/15 - 0s - loss: 0.0674 - accuracy: 0.7933 - val_loss: 0.0663 - val_accuracy: 0.7600\n",
      "Epoch 214/250\n",
      "15/15 - 0s - loss: 0.0685 - accuracy: 0.7667 - val_loss: 0.0665 - val_accuracy: 0.7600\n",
      "Epoch 215/250\n",
      "15/15 - 0s - loss: 0.0642 - accuracy: 0.7867 - val_loss: 0.0654 - val_accuracy: 0.8000\n",
      "Epoch 216/250\n",
      "15/15 - 0s - loss: 0.0702 - accuracy: 0.7733 - val_loss: 0.0635 - val_accuracy: 0.8000\n",
      "Epoch 217/250\n",
      "15/15 - 0s - loss: 0.0599 - accuracy: 0.8133 - val_loss: 0.0657 - val_accuracy: 0.7600\n",
      "Epoch 218/250\n",
      "15/15 - 0s - loss: 0.0648 - accuracy: 0.7933 - val_loss: 0.0670 - val_accuracy: 0.7600\n",
      "Epoch 219/250\n",
      "15/15 - 0s - loss: 0.0665 - accuracy: 0.8000 - val_loss: 0.0639 - val_accuracy: 0.8000\n",
      "Epoch 220/250\n",
      "15/15 - 0s - loss: 0.0681 - accuracy: 0.7733 - val_loss: 0.0636 - val_accuracy: 0.8000\n",
      "Epoch 221/250\n",
      "15/15 - 0s - loss: 0.0674 - accuracy: 0.7600 - val_loss: 0.0631 - val_accuracy: 0.8000\n",
      "Epoch 222/250\n",
      "15/15 - 0s - loss: 0.0677 - accuracy: 0.7400 - val_loss: 0.0639 - val_accuracy: 0.7600\n",
      "Epoch 223/250\n",
      "15/15 - 0s - loss: 0.0718 - accuracy: 0.7467 - val_loss: 0.0633 - val_accuracy: 0.8000\n",
      "Epoch 224/250\n",
      "15/15 - 0s - loss: 0.0606 - accuracy: 0.8000 - val_loss: 0.0628 - val_accuracy: 0.8000\n",
      "Epoch 225/250\n",
      "15/15 - 0s - loss: 0.0635 - accuracy: 0.8000 - val_loss: 0.0621 - val_accuracy: 0.8000\n",
      "Epoch 226/250\n",
      "15/15 - 0s - loss: 0.0670 - accuracy: 0.7933 - val_loss: 0.0625 - val_accuracy: 0.7800\n",
      "Epoch 227/250\n",
      "15/15 - 0s - loss: 0.0658 - accuracy: 0.7400 - val_loss: 0.0607 - val_accuracy: 0.8000\n",
      "Epoch 228/250\n",
      "15/15 - 0s - loss: 0.0653 - accuracy: 0.7933 - val_loss: 0.0618 - val_accuracy: 0.8000\n",
      "Epoch 229/250\n",
      "15/15 - 0s - loss: 0.0647 - accuracy: 0.7867 - val_loss: 0.0620 - val_accuracy: 0.8000\n",
      "Epoch 230/250\n",
      "15/15 - 0s - loss: 0.0597 - accuracy: 0.8067 - val_loss: 0.0610 - val_accuracy: 0.8000\n",
      "Epoch 231/250\n",
      "15/15 - 0s - loss: 0.0692 - accuracy: 0.7667 - val_loss: 0.0612 - val_accuracy: 0.8000\n",
      "Epoch 232/250\n",
      "15/15 - 0s - loss: 0.0613 - accuracy: 0.7933 - val_loss: 0.0615 - val_accuracy: 0.8000\n",
      "Epoch 233/250\n",
      "15/15 - 0s - loss: 0.0623 - accuracy: 0.7733 - val_loss: 0.0627 - val_accuracy: 0.7800\n",
      "Epoch 234/250\n",
      "15/15 - 0s - loss: 0.0689 - accuracy: 0.7400 - val_loss: 0.0615 - val_accuracy: 0.8000\n",
      "Epoch 235/250\n",
      "15/15 - 0s - loss: 0.0620 - accuracy: 0.8067 - val_loss: 0.0608 - val_accuracy: 0.8000\n",
      "Epoch 236/250\n",
      "15/15 - 0s - loss: 0.0665 - accuracy: 0.7667 - val_loss: 0.0611 - val_accuracy: 0.8000\n",
      "Epoch 237/250\n",
      "15/15 - 0s - loss: 0.0648 - accuracy: 0.7867 - val_loss: 0.0603 - val_accuracy: 0.8200\n",
      "Epoch 238/250\n",
      "15/15 - 0s - loss: 0.0593 - accuracy: 0.8000 - val_loss: 0.0606 - val_accuracy: 0.8200\n",
      "Epoch 239/250\n",
      "15/15 - 0s - loss: 0.0601 - accuracy: 0.8200 - val_loss: 0.0600 - val_accuracy: 0.8200\n",
      "Epoch 240/250\n",
      "15/15 - 0s - loss: 0.0565 - accuracy: 0.8000 - val_loss: 0.0596 - val_accuracy: 0.8000\n",
      "Epoch 241/250\n",
      "15/15 - 0s - loss: 0.0638 - accuracy: 0.7800 - val_loss: 0.0589 - val_accuracy: 0.8000\n",
      "Epoch 242/250\n",
      "15/15 - 0s - loss: 0.0641 - accuracy: 0.7667 - val_loss: 0.0583 - val_accuracy: 0.8000\n",
      "Epoch 243/250\n",
      "15/15 - 0s - loss: 0.0577 - accuracy: 0.8267 - val_loss: 0.0574 - val_accuracy: 0.8200\n",
      "Epoch 244/250\n",
      "15/15 - 0s - loss: 0.0604 - accuracy: 0.7867 - val_loss: 0.0582 - val_accuracy: 0.8200\n",
      "Epoch 245/250\n",
      "15/15 - 0s - loss: 0.0634 - accuracy: 0.7800 - val_loss: 0.0602 - val_accuracy: 0.8000\n",
      "Epoch 246/250\n"
     ]
    },
    {
     "name": "stdout",
     "output_type": "stream",
     "text": [
      "15/15 - 0s - loss: 0.0601 - accuracy: 0.8200 - val_loss: 0.0582 - val_accuracy: 0.8200\n",
      "Epoch 247/250\n",
      "15/15 - 0s - loss: 0.0555 - accuracy: 0.8200 - val_loss: 0.0574 - val_accuracy: 0.8200\n",
      "Epoch 248/250\n",
      "15/15 - 0s - loss: 0.0570 - accuracy: 0.8000 - val_loss: 0.0567 - val_accuracy: 0.8200\n",
      "Epoch 249/250\n",
      "15/15 - 0s - loss: 0.0601 - accuracy: 0.8067 - val_loss: 0.0556 - val_accuracy: 0.8200\n",
      "Epoch 250/250\n",
      "15/15 - 0s - loss: 0.0569 - accuracy: 0.8000 - val_loss: 0.0560 - val_accuracy: 0.8200\n"
     ]
    }
   ],
   "source": [
    "history = model.fit(X_train, \n",
    "                    Y_train, \n",
    "                    batch_size=10, \n",
    "                    validation_data=(X_test, Y_test), \n",
    "                    epochs=250, \n",
    "                    verbose=2)\n",
    "# batch_size je parameter urcujuci, kolko udajov sa spracovava v jednej iteracii\n",
    "# verbose je parameter pre vyhlad vypisu, so vsetko bude obsahovat (1 = kompletny) "
   ]
  },
  {
   "cell_type": "markdown",
   "metadata": {},
   "source": [
    "# Predikcia"
   ]
  },
  {
   "cell_type": "code",
   "execution_count": 26,
   "metadata": {
    "scrolled": true
   },
   "outputs": [
    {
     "name": "stdout",
     "output_type": "stream",
     "text": [
      "Vygenerovanie predikcie\n",
      "Predikcie: [[1.49011225e-01 1.11290485e-01 4.00268137e-02 1.06724769e-01\n",
      "  7.04178214e-01]\n",
      " [9.65030253e-01 4.78839278e-02 4.91461158e-03 1.09875202e-02\n",
      "  7.23671913e-03]\n",
      " [1.08808398e-01 4.99366522e-02 2.12507248e-02 4.94875610e-02\n",
      "  8.58639657e-01]\n",
      " [4.73544300e-02 1.26385897e-01 1.36928380e-01 7.18439519e-02\n",
      "  5.19622207e-01]\n",
      " [9.99999702e-01 5.38690620e-06 2.87850838e-07 1.51127577e-04\n",
      "  1.62765832e-06]]\n"
     ]
    }
   ],
   "source": [
    "print(\"Vygenerovanie predikcie\")\n",
    "# vratenie pola, ktore obsahuje pravdepobonost, ci kazdy prvok patri k niektorej triede (v mojom pripade 0-4)\n",
    "predictions = model.predict(X_test[:5]) # je to v podstate pole s liekmi\n",
    "print(\"Predikcie:\", predictions)"
   ]
  },
  {
   "cell_type": "code",
   "execution_count": 27,
   "metadata": {
    "scrolled": true
   },
   "outputs": [
    {
     "name": "stdout",
     "output_type": "stream",
     "text": [
      "[4 0 4 4 0]\n"
     ]
    }
   ],
   "source": [
    "# predictions_classes vrati jednorozmerne pole hodnot s najvyssou pravdepobnostou, ze boli spravne\n",
    "predictions_classes = np.argmax(predictions, axis = 1) # ktory liek je spravny\n",
    "print(predictions_classes)"
   ]
  },
  {
   "cell_type": "markdown",
   "metadata": {},
   "source": [
    "# Vizualizácia výsledkov neurónovej siete"
   ]
  },
  {
   "cell_type": "code",
   "execution_count": 25,
   "metadata": {},
   "outputs": [
    {
     "name": "stdout",
     "output_type": "stream",
     "text": [
      "Evaluácia testovacích dát\n",
      "2/2 [==============================] - 0s 2ms/step - loss: 0.0560 - accuracy: 0.8200\n",
      "Chyba testovacích, presnosť testovacích: [0.055990394204854965, 0.8199999928474426]\n"
     ]
    }
   ],
   "source": [
    "print(\"Evaluácia testovacích dát\")\n",
    "results = model.evaluate(X_test, Y_test)\n",
    "print(\"Chyba testovacích, presnosť testovacích:\", results)"
   ]
  },
  {
   "cell_type": "code",
   "execution_count": 28,
   "metadata": {},
   "outputs": [
    {
     "name": "stdout",
     "output_type": "stream",
     "text": [
      "dict_keys(['loss', 'accuracy', 'val_loss', 'val_accuracy'])\n"
     ]
    }
   ],
   "source": [
    "print(history.history.keys())"
   ]
  },
  {
   "cell_type": "code",
   "execution_count": 29,
   "metadata": {},
   "outputs": [
    {
     "data": {
      "image/png": "[encoded data removed]",
      "text/plain": [
       "<Figure size 720x216 with 1 Axes>"
      ]
     },
     "metadata": {
      "needs_background": "light"
     },
     "output_type": "display_data"
    }
   ],
   "source": [
    "plt.plot(history.history['accuracy'], label='Presnosť', color='blue')\n",
    "plt.plot(history.history['loss'], label='Chyba', color='red')\n",
    "plt.title('Výsledok trénovacích dát')\n",
    "plt.legend()\n",
    "plt.show()"
   ]
  },
  {
   "cell_type": "code",
   "execution_count": 30,
   "metadata": {
    "scrolled": true
   },
   "outputs": [
    {
     "data": {
      "image/png": "[encoded data removed]",
      "text/plain": [
       "<Figure size 720x216 with 1 Axes>"
      ]
     },
     "metadata": {
      "needs_background": "light"
     },
     "output_type": "display_data"
    }
   ],
   "source": [
    "plt.plot(history.history['val_accuracy'], label='Presnosť', color='blue')\n",
    "plt.plot(history.history['val_loss'], label='Chyba', color='red')\n",
    "plt.title('Výsledok testovacích dát')\n",
    "plt.legend()\n",
    "plt.show()"
   ]
  },
  {
   "cell_type": "markdown",
   "metadata": {},
   "source": [
    "# Výsledok\n",
    "\n",
    "- Neurónová sieť mala veľmi vysokú 86 % prenosť a nízku chybovosť, ktorá sa každou epochou blížila k nule.\n",
    "- Dáta nebolo náročné spracovať"
   ]
  }
 ],
 "metadata": {
  "kernelspec": {
   "display_name": "Python 3",
   "language": "python",
   "name": "python3"
  },
  "language_info": {
   "codemirror_mode": {
    "name": "ipython",
    "version": 3
   },
   "file_extension": ".py",
   "mimetype": "text/x-python",
   "name": "python",
   "nbconvert_exporter": "python",
   "pygments_lexer": "ipython3",
   "version": "3.8.5"
  }
 },
 "nbformat": 4,
 "nbformat_minor": 4
}
